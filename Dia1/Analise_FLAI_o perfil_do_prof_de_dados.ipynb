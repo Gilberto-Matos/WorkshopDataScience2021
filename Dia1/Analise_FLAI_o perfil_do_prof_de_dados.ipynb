{
  "nbformat": 4,
  "nbformat_minor": 0,
  "metadata": {
    "colab": {
      "name": "STORYTELLIGN.ipynb",
      "provenance": [],
      "collapsed_sections": [],
      "toc_visible": true
    },
    "kernelspec": {
      "name": "python3",
      "display_name": "Python 3"
    }
  },
  "cells": [
    {
      "cell_type": "markdown",
      "metadata": {
        "id": "yCyD6avZVbE8"
      },
      "source": [
        "![](https://github.com/gitflai/imagens/blob/main/capa.jpg?raw=true)\r\n",
        "\r\n",
        "#Investigando o Perfil do Profissional de Dados Brasileiro\r\n",
        "##Pesquisa Data Hackers 2019\r\n",
        "\r\n",
        "A Análise desses dados foi possível devido a incrível pesquisa conduzida pela equipe do Data Hackers em novembro de 2019. Os dados foram coletados on-line e abrange profissonais de diversas ramificações da área de dados. \r\n",
        "\r\n",
        "O dataset está anonimizado e, por isso, muitas variáveis possuem dados faltantes. \r\n",
        "\r\n",
        "As perguntas feitas foram as seguintes:\r\n",
        "\r\n",
        "1. Pergunta_1 (P1) = Idade? [Mascarada]\r\n",
        "2. Pergunta_2 (P2) = Gênero? [Mascarada]\r\n",
        "3. Pergunta_3 (P3) = Atualmente você vive no Brasil?\r\n",
        "4. Pergunta_4 (P4) = ~~Em que país você vive hoje?~~\r\n",
        "5. Pergunta_5 (P5) = Em que estado você vive hoje? [Mascarada]\r\n",
        "6. Pergunta_6 (P6) = Na questão anterior você disse que vive em _____ . Esse é seu estado de origem (onde nasceu ou se formou)?\r\n",
        "7. Pergunta_7 (P7) = ~~Qual seu estado de origem?~~\r\n",
        "8. Pergunta_8 (P8) = Qual seu nível de ensino? \r\n",
        "9. Pergunta_9 (P9) = ~~Qual sua área de formação?~~\r\n",
        "10. Pergunta_10 (P10) = Qual sua situação atual de trabalho? \r\n",
        "11. Pergunta_11 (P11) = ~~A empresa em que você trabalha pertence a qual setor?~~\r\n",
        "12. Pergunta_12 (P12) = A empresa em que você trabalha possui quantos funcionários atualmente?\r\n",
        "13. Pergunta_13 (P13) = Você atua como gestor?\r\n",
        "14. Pergunta_14 (P14) = ~~Qual das opções abaixo definem melhor seu cargo de trabalho atual como gestor?~~\r\n",
        "15. Pergunta_15 (P15) = ~~Qual das opções abaixo definem melhor seu cargo de trabalho atual?~~\r\n",
        "16. Pergunta_16 (P16) = Qual sua faixa salarial atual? [Mascarada]\r\n",
        "17. Pergunta_17 (P17) = Quanto tempo de experiência na área de dados você tem?\r\n",
        "18. Pergunta_18 (P18) = Quanto tempo de experiência na área de TI/Engenharia de Software você teve antes de começar a trabalhar na área de dados?\r\n",
        "19. Pergunta_19 (P19) = Você se considera um profissional que atua na área de Data Science?\r\n",
        "20. Pergunta_20 (P20) = Quais dos métodos listados abaixo você costuma utilizar no trabalho?\r\n",
        "21. Pergunta_21 (P21) = Quais das linguagens de programação listadas abaixo você utiliza no trabalho?\r\n",
        "22. Pergunta_22 (P22) = Entre as linguagens de programação listadas abaixo, qual é a que você mais utiliza no trabalho? [Mascarada]\r\n",
        "23. Pergunta_23 (P23) = Quais das fontes de dados listadas você já analisou no trabalho?\r\n",
        "24. Pergunta_24 (P24) = Entre as fontes de dados listadas, quais você utiliza na maior parte do tempo? Selecione no máximo duas opções que você mais utiliza.\r\n",
        "25. Pergunta_25 (P25) = Quais das opções de Cloud listadas abaixo você utiliza no trabalho?\r\n",
        "26. Pergunta_26 (P26) = Quais dos bancos de dados/fontes de dados listados abaixo você utiliza para consultar informações, e posteriormente analisar, no trabalho?\r\n",
        "27. Pergunta_27 (P27) = Quais as Ferramentas de Business Intelligence você utiliza no trabalho?\r\n",
        "28. Pergunta_28 (P28) = Quais as tecnologias são utilizadas como ferramenta de ETL no seu trabalho?\r\n",
        "29. Pergunta_29 (P29) = Sua organização possui um Data Warehouse?\r\n",
        "30. Pergunta_30 (P30) = Qual tecnologia utilizada como plataforma do Data Warehouse?\r\n",
        "31. Pergunta_31 (P31) = Quais das iniciativas do Data Hackers que você já acessou/acompanhou?\r\n",
        "32. Pergunta_32 (P32) = Entre as iniciativas do Data Hackers qual a sua preferida?\r\n",
        "33. Pergunta_33 (P33) = De quais outras formas que você costuma se atualizar no mundo dos dados?\r\n",
        "34. Pergunta_34 (P34) = Em quais dessas plataformas listadas abaixo você já iniciou/completou cursos na área de Data Science?\r\n",
        "35. Pergunta_35 (P35) = Dentre as plataformas listadas abaixo qual foi a sua preferida para cursos de Data Science?\r\n",
        "36. Pergunta_36 (P36) = Você deseja participar do sorteio?\r\n",
        "\r\n",
        "Além dessas, derivamos algumas outras colunas:\r\n",
        "1. Derivado_1 (D1) = Macrorregião em que mora\r\n",
        "2. Derivado_2 (D2) = Macrorregião em que nasceu\r\n",
        "3. Derivado_3 (D3) = Área de formação anonimizada\r\n",
        "4. Derivado_4 (D4) = Setor de mercado anonimizado\r\n",
        "5. Derivado_5 (D5) = Nível de gerência anonimizado\r\n",
        "6. Derivado_6 (D6) = Cargo anonimizado\r\n",
        "\r\n",
        "Mais informações e os dados da pesquisa podem ser encontrados no kaggle: https://www.kaggle.com/datahackers/pesquisa-data-hackers-2019."
      ]
    },
    {
      "cell_type": "code",
      "metadata": {
        "id": "4oPp8xvMreLy"
      },
      "source": [
        "#Importando blibiotecas\r\n",
        " \r\n",
        "import numpy as np\r\n",
        "import pandas as pd\r\n",
        "from pandas.api.types import CategoricalDtype\r\n",
        "import matplotlib.pyplot as plt\r\n",
        "from matplotlib_venn import venn3\r\n",
        "from google.colab import files"
      ],
      "execution_count": 111,
      "outputs": []
    },
    {
      "cell_type": "code",
      "metadata": {
        "colab": {
          "base_uri": "https://localhost:8080/",
          "height": 412
        },
        "id": "puD7UTtff-NU",
        "outputId": "5dccfe21-3b9a-4a11-b09a-d5ddb22590af"
      },
      "source": [
        "#Lendo os dados do github\r\n",
        "caminho = '/content/datahackers-survey-2019-anonymous-responses.csv'\r\n",
        "\r\n",
        "dados = pd.read_csv(caminho)\r\n",
        "\r\n",
        "dados.head()"
      ],
      "execution_count": 112,
      "outputs": [
        {
          "output_type": "execute_result",
          "data": {
            "text/html": [
              "<div>\n",
              "<style scoped>\n",
              "    .dataframe tbody tr th:only-of-type {\n",
              "        vertical-align: middle;\n",
              "    }\n",
              "\n",
              "    .dataframe tbody tr th {\n",
              "        vertical-align: top;\n",
              "    }\n",
              "\n",
              "    .dataframe thead th {\n",
              "        text-align: right;\n",
              "    }\n",
              "</style>\n",
              "<table border=\"1\" class=\"dataframe\">\n",
              "  <thead>\n",
              "    <tr style=\"text-align: right;\">\n",
              "      <th></th>\n",
              "      <th>('P0', 'id')</th>\n",
              "      <th>('P1', 'age')</th>\n",
              "      <th>('P2', 'gender')</th>\n",
              "      <th>('P3', 'living_in_brasil')</th>\n",
              "      <th>('P5', 'living_state')</th>\n",
              "      <th>('P6', 'born_or_graduated')</th>\n",
              "      <th>('P8', 'degreee_level')</th>\n",
              "      <th>('P10', 'job_situation')</th>\n",
              "      <th>('P12', 'workers_number')</th>\n",
              "      <th>('P13', 'manager')</th>\n",
              "      <th>('P16', 'salary_range')</th>\n",
              "      <th>('P17', 'time_experience_data_science')</th>\n",
              "      <th>('P18', 'time_experience_before')</th>\n",
              "      <th>('P19', 'is_data_science_professional')</th>\n",
              "      <th>('P20', 'linear_regression')</th>\n",
              "      <th>('P20', 'logistic_regression')</th>\n",
              "      <th>('P20', 'glms')</th>\n",
              "      <th>('P20', 'decision_tree')</th>\n",
              "      <th>('P20', 'random_forest')</th>\n",
              "      <th>('P20', 'neural_networks')</th>\n",
              "      <th>('P20', 'bayesian_inference')</th>\n",
              "      <th>('P20', 'ensemble')</th>\n",
              "      <th>('P20', 'svms')</th>\n",
              "      <th>('P20', 'cnns')</th>\n",
              "      <th>('P20', 'rnns')</th>\n",
              "      <th>('P20', 'hmms')</th>\n",
              "      <th>('P20', 'gans')</th>\n",
              "      <th>('P20', 'markov_chains')</th>\n",
              "      <th>('P20', 'nlp')</th>\n",
              "      <th>('P20', 'gradient_boosted_machines')</th>\n",
              "      <th>('P20', 'cluster_analysis')</th>\n",
              "      <th>('P20', 'survival_analysis')</th>\n",
              "      <th>('P20', 'longitudinal_data_analysis')</th>\n",
              "      <th>('P20', 'joint analysis')</th>\n",
              "      <th>('P20', 'no_listed_methods')</th>\n",
              "      <th>('P21', 'sql_')</th>\n",
              "      <th>('P21', 'r')</th>\n",
              "      <th>('P21', 'python')</th>\n",
              "      <th>('P21', 'c_c++_c#')</th>\n",
              "      <th>('P21', 'dotnet')</th>\n",
              "      <th>...</th>\n",
              "      <th>('P30', 'microsoft_azure')</th>\n",
              "      <th>('P30', 'do_not_know')</th>\n",
              "      <th>('P30', 'other')</th>\n",
              "      <th>('P31', 'data_hackers_blog')</th>\n",
              "      <th>('P31', 'data_hackers_podcast')</th>\n",
              "      <th>('P31', 'weekly_newsletter')</th>\n",
              "      <th>('P31', 'slack_channel')</th>\n",
              "      <th>('P31', 'data_hackers_bootcamp')</th>\n",
              "      <th>('P31', 'do_not_know_data_hackers')</th>\n",
              "      <th>('P32', 'prefered_data_hackers_initiative')</th>\n",
              "      <th>('P33', 'telegram_groups')</th>\n",
              "      <th>('P33', 'whatsapp_groups')</th>\n",
              "      <th>('P33', 'youtube_channels')</th>\n",
              "      <th>('P33', 'other_brasilian_blogs')</th>\n",
              "      <th>('P33', 'other_slack_channels')</th>\n",
              "      <th>('P33', 'twitter')</th>\n",
              "      <th>('P33', 'abroad_blogs')</th>\n",
              "      <th>('P33', 'abroad_podcasts')</th>\n",
              "      <th>('P33', 'meetups_and_events')</th>\n",
              "      <th>('P33', 'only_data_hackers')</th>\n",
              "      <th>('P33', 'other')</th>\n",
              "      <th>('P34', 'udacity')</th>\n",
              "      <th>('P34', 'coursera')</th>\n",
              "      <th>('P34', 'udemy')</th>\n",
              "      <th>('P34', 'height')</th>\n",
              "      <th>('P34', 'edx')</th>\n",
              "      <th>('P34', 'data_camp')</th>\n",
              "      <th>('P34', 'data_quest')</th>\n",
              "      <th>('P34', 'kaggle_learn')</th>\n",
              "      <th>('P34', 'online_courses')</th>\n",
              "      <th>('P34', 'other')</th>\n",
              "      <th>('P35', 'data_science_plataforms_preference')</th>\n",
              "      <th>('P35', 'other')</th>\n",
              "      <th>('P36', 'draw_participation')</th>\n",
              "      <th>('D1', 'living_macroregion')</th>\n",
              "      <th>('D2', 'origin_macroregion')</th>\n",
              "      <th>('D3', 'anonymized_degree_area')</th>\n",
              "      <th>('D4', 'anonymized_market_sector')</th>\n",
              "      <th>('D5', 'anonymized_manager_level')</th>\n",
              "      <th>('D6', 'anonymized_role')</th>\n",
              "    </tr>\n",
              "  </thead>\n",
              "  <tbody>\n",
              "    <tr>\n",
              "      <th>0</th>\n",
              "      <td>v9otv8j9wdvjrv9otvwnn9owhzq54ktv</td>\n",
              "      <td>37.0</td>\n",
              "      <td>Masculino</td>\n",
              "      <td>1</td>\n",
              "      <td>Minas Gerais (MG)</td>\n",
              "      <td>1.0</td>\n",
              "      <td>Estudante de Graduação</td>\n",
              "      <td>Empregado (CTL)</td>\n",
              "      <td>de 1 a 5</td>\n",
              "      <td>0.0</td>\n",
              "      <td>de R$ 1.001/mês a R$ 2.000/mês</td>\n",
              "      <td>Não tenho experiência na área de dados</td>\n",
              "      <td>Não tive experiência na área de TI/Engenharia ...</td>\n",
              "      <td>0</td>\n",
              "      <td>0</td>\n",
              "      <td>0</td>\n",
              "      <td>0</td>\n",
              "      <td>0</td>\n",
              "      <td>0</td>\n",
              "      <td>0</td>\n",
              "      <td>0</td>\n",
              "      <td>0</td>\n",
              "      <td>0</td>\n",
              "      <td>0</td>\n",
              "      <td>0</td>\n",
              "      <td>0</td>\n",
              "      <td>0</td>\n",
              "      <td>0</td>\n",
              "      <td>0</td>\n",
              "      <td>0</td>\n",
              "      <td>0</td>\n",
              "      <td>0</td>\n",
              "      <td>0</td>\n",
              "      <td>0</td>\n",
              "      <td>0</td>\n",
              "      <td>0</td>\n",
              "      <td>0</td>\n",
              "      <td>0</td>\n",
              "      <td>0</td>\n",
              "      <td>0</td>\n",
              "      <td>...</td>\n",
              "      <td>0</td>\n",
              "      <td>0</td>\n",
              "      <td>0</td>\n",
              "      <td>0</td>\n",
              "      <td>0</td>\n",
              "      <td>0</td>\n",
              "      <td>0</td>\n",
              "      <td>0</td>\n",
              "      <td>1</td>\n",
              "      <td>Ainda não conhecia o Data Hackers</td>\n",
              "      <td>0</td>\n",
              "      <td>0</td>\n",
              "      <td>1</td>\n",
              "      <td>0</td>\n",
              "      <td>0</td>\n",
              "      <td>0</td>\n",
              "      <td>0</td>\n",
              "      <td>0</td>\n",
              "      <td>0</td>\n",
              "      <td>0</td>\n",
              "      <td>0</td>\n",
              "      <td>0</td>\n",
              "      <td>0</td>\n",
              "      <td>0</td>\n",
              "      <td>0</td>\n",
              "      <td>0</td>\n",
              "      <td>0</td>\n",
              "      <td>0</td>\n",
              "      <td>0</td>\n",
              "      <td>1</td>\n",
              "      <td>0</td>\n",
              "      <td>Nunca fiz cursos online</td>\n",
              "      <td>NaN</td>\n",
              "      <td>1.0</td>\n",
              "      <td>Região Sudeste</td>\n",
              "      <td>NaN</td>\n",
              "      <td>Computação / Engenharia de Software / Sistemas...</td>\n",
              "      <td>Outras</td>\n",
              "      <td>NaN</td>\n",
              "      <td>Outras</td>\n",
              "    </tr>\n",
              "    <tr>\n",
              "      <th>1</th>\n",
              "      <td>875ul998t0hqcv0871uptwf3oswcfv35</td>\n",
              "      <td>24.0</td>\n",
              "      <td>Feminino</td>\n",
              "      <td>1</td>\n",
              "      <td>São Paulo (SP)</td>\n",
              "      <td>1.0</td>\n",
              "      <td>Estudante de Graduação</td>\n",
              "      <td>Empregado (CTL)</td>\n",
              "      <td>Acima de 3000</td>\n",
              "      <td>0.0</td>\n",
              "      <td>de R$ 2.001/mês a R$ 3000/mês</td>\n",
              "      <td>Menos de 1 ano</td>\n",
              "      <td>Não tive experiência na área de TI/Engenharia ...</td>\n",
              "      <td>1</td>\n",
              "      <td>0</td>\n",
              "      <td>0</td>\n",
              "      <td>0</td>\n",
              "      <td>0</td>\n",
              "      <td>0</td>\n",
              "      <td>0</td>\n",
              "      <td>0</td>\n",
              "      <td>0</td>\n",
              "      <td>0</td>\n",
              "      <td>0</td>\n",
              "      <td>0</td>\n",
              "      <td>0</td>\n",
              "      <td>0</td>\n",
              "      <td>0</td>\n",
              "      <td>0</td>\n",
              "      <td>0</td>\n",
              "      <td>0</td>\n",
              "      <td>0</td>\n",
              "      <td>0</td>\n",
              "      <td>0</td>\n",
              "      <td>1</td>\n",
              "      <td>1</td>\n",
              "      <td>0</td>\n",
              "      <td>1</td>\n",
              "      <td>0</td>\n",
              "      <td>0</td>\n",
              "      <td>...</td>\n",
              "      <td>0</td>\n",
              "      <td>0</td>\n",
              "      <td>0</td>\n",
              "      <td>0</td>\n",
              "      <td>0</td>\n",
              "      <td>0</td>\n",
              "      <td>0</td>\n",
              "      <td>0</td>\n",
              "      <td>1</td>\n",
              "      <td>Ainda não conhecia o Data Hackers</td>\n",
              "      <td>0</td>\n",
              "      <td>0</td>\n",
              "      <td>1</td>\n",
              "      <td>0</td>\n",
              "      <td>0</td>\n",
              "      <td>0</td>\n",
              "      <td>0</td>\n",
              "      <td>0</td>\n",
              "      <td>0</td>\n",
              "      <td>0</td>\n",
              "      <td>0</td>\n",
              "      <td>0</td>\n",
              "      <td>0</td>\n",
              "      <td>1</td>\n",
              "      <td>0</td>\n",
              "      <td>0</td>\n",
              "      <td>0</td>\n",
              "      <td>0</td>\n",
              "      <td>0</td>\n",
              "      <td>0</td>\n",
              "      <td>1</td>\n",
              "      <td>NaN</td>\n",
              "      <td>Data Science Academy</td>\n",
              "      <td>0.0</td>\n",
              "      <td>Região Sudeste</td>\n",
              "      <td>NaN</td>\n",
              "      <td>Computação / Engenharia de Software / Sistemas...</td>\n",
              "      <td>Educação</td>\n",
              "      <td>NaN</td>\n",
              "      <td>Data Analyst/Analista de Dados</td>\n",
              "    </tr>\n",
              "    <tr>\n",
              "      <th>2</th>\n",
              "      <td>puscuk079vw1pusbb900pzw2xvpxtgdk</td>\n",
              "      <td>26.0</td>\n",
              "      <td>Masculino</td>\n",
              "      <td>1</td>\n",
              "      <td>São Paulo (SP)</td>\n",
              "      <td>1.0</td>\n",
              "      <td>Graduação/Bacharelado</td>\n",
              "      <td>Empregado (CTL)</td>\n",
              "      <td>Acima de 3000</td>\n",
              "      <td>0.0</td>\n",
              "      <td>de R$ 4.001/mês a R$ 6.000/mês</td>\n",
              "      <td>de 1 a 2 anos</td>\n",
              "      <td>de 6 a 10 anos</td>\n",
              "      <td>1</td>\n",
              "      <td>0</td>\n",
              "      <td>0</td>\n",
              "      <td>0</td>\n",
              "      <td>0</td>\n",
              "      <td>1</td>\n",
              "      <td>1</td>\n",
              "      <td>0</td>\n",
              "      <td>1</td>\n",
              "      <td>1</td>\n",
              "      <td>0</td>\n",
              "      <td>0</td>\n",
              "      <td>0</td>\n",
              "      <td>0</td>\n",
              "      <td>0</td>\n",
              "      <td>0</td>\n",
              "      <td>0</td>\n",
              "      <td>1</td>\n",
              "      <td>0</td>\n",
              "      <td>0</td>\n",
              "      <td>0</td>\n",
              "      <td>0</td>\n",
              "      <td>0</td>\n",
              "      <td>0</td>\n",
              "      <td>1</td>\n",
              "      <td>0</td>\n",
              "      <td>0</td>\n",
              "      <td>...</td>\n",
              "      <td>0</td>\n",
              "      <td>0</td>\n",
              "      <td>0</td>\n",
              "      <td>0</td>\n",
              "      <td>1</td>\n",
              "      <td>1</td>\n",
              "      <td>0</td>\n",
              "      <td>0</td>\n",
              "      <td>0</td>\n",
              "      <td>Newsletter Semanal</td>\n",
              "      <td>0</td>\n",
              "      <td>0</td>\n",
              "      <td>0</td>\n",
              "      <td>1</td>\n",
              "      <td>0</td>\n",
              "      <td>0</td>\n",
              "      <td>0</td>\n",
              "      <td>0</td>\n",
              "      <td>0</td>\n",
              "      <td>0</td>\n",
              "      <td>0</td>\n",
              "      <td>0</td>\n",
              "      <td>1</td>\n",
              "      <td>1</td>\n",
              "      <td>0</td>\n",
              "      <td>0</td>\n",
              "      <td>0</td>\n",
              "      <td>0</td>\n",
              "      <td>1</td>\n",
              "      <td>0</td>\n",
              "      <td>0</td>\n",
              "      <td>Udemy</td>\n",
              "      <td>NaN</td>\n",
              "      <td>1.0</td>\n",
              "      <td>Região Sudeste</td>\n",
              "      <td>NaN</td>\n",
              "      <td>Outras Engenharias</td>\n",
              "      <td>Indústria (Manufatura)</td>\n",
              "      <td>NaN</td>\n",
              "      <td>Outras</td>\n",
              "    </tr>\n",
              "    <tr>\n",
              "      <th>3</th>\n",
              "      <td>rmel8ewqpbffp2mnfbzermel8eqincov</td>\n",
              "      <td>21.0</td>\n",
              "      <td>Masculino</td>\n",
              "      <td>1</td>\n",
              "      <td>São Paulo (SP)</td>\n",
              "      <td>0.0</td>\n",
              "      <td>Estudante de Graduação</td>\n",
              "      <td>Estagiário</td>\n",
              "      <td>de 11 a 50</td>\n",
              "      <td>0.0</td>\n",
              "      <td>de R$ 1.001/mês a R$ 2.000/mês</td>\n",
              "      <td>Menos de 1 ano</td>\n",
              "      <td>de 2 a 3 anos</td>\n",
              "      <td>1</td>\n",
              "      <td>0</td>\n",
              "      <td>0</td>\n",
              "      <td>0</td>\n",
              "      <td>0</td>\n",
              "      <td>1</td>\n",
              "      <td>0</td>\n",
              "      <td>0</td>\n",
              "      <td>0</td>\n",
              "      <td>0</td>\n",
              "      <td>0</td>\n",
              "      <td>0</td>\n",
              "      <td>0</td>\n",
              "      <td>0</td>\n",
              "      <td>0</td>\n",
              "      <td>0</td>\n",
              "      <td>0</td>\n",
              "      <td>0</td>\n",
              "      <td>0</td>\n",
              "      <td>0</td>\n",
              "      <td>0</td>\n",
              "      <td>0</td>\n",
              "      <td>1</td>\n",
              "      <td>0</td>\n",
              "      <td>1</td>\n",
              "      <td>0</td>\n",
              "      <td>0</td>\n",
              "      <td>...</td>\n",
              "      <td>0</td>\n",
              "      <td>0</td>\n",
              "      <td>0</td>\n",
              "      <td>0</td>\n",
              "      <td>0</td>\n",
              "      <td>0</td>\n",
              "      <td>0</td>\n",
              "      <td>0</td>\n",
              "      <td>1</td>\n",
              "      <td>Ainda não conhecia o Data Hackers</td>\n",
              "      <td>0</td>\n",
              "      <td>1</td>\n",
              "      <td>0</td>\n",
              "      <td>0</td>\n",
              "      <td>0</td>\n",
              "      <td>0</td>\n",
              "      <td>0</td>\n",
              "      <td>1</td>\n",
              "      <td>0</td>\n",
              "      <td>0</td>\n",
              "      <td>0</td>\n",
              "      <td>0</td>\n",
              "      <td>1</td>\n",
              "      <td>1</td>\n",
              "      <td>1</td>\n",
              "      <td>0</td>\n",
              "      <td>0</td>\n",
              "      <td>0</td>\n",
              "      <td>0</td>\n",
              "      <td>0</td>\n",
              "      <td>0</td>\n",
              "      <td>Alura</td>\n",
              "      <td>NaN</td>\n",
              "      <td>1.0</td>\n",
              "      <td>Região Sudeste</td>\n",
              "      <td>Região Sudeste</td>\n",
              "      <td>Computação / Engenharia de Software / Sistemas...</td>\n",
              "      <td>Tecnologia/Fábrica de Software</td>\n",
              "      <td>NaN</td>\n",
              "      <td>Business Intelligence/Analista de BI</td>\n",
              "    </tr>\n",
              "    <tr>\n",
              "      <th>4</th>\n",
              "      <td>pj9mgud4d6mdct1l7vq0pj9mgu78h6ju</td>\n",
              "      <td>27.0</td>\n",
              "      <td>Masculino</td>\n",
              "      <td>1</td>\n",
              "      <td>NaN</td>\n",
              "      <td>1.0</td>\n",
              "      <td>Graduação/Bacharelado</td>\n",
              "      <td>Freelancer</td>\n",
              "      <td>de 6 a 10</td>\n",
              "      <td>1.0</td>\n",
              "      <td>de R$ 6.001/mês a R$ 8.000/mês</td>\n",
              "      <td>de 4 a 5 anos</td>\n",
              "      <td>de 4 a 5 anos</td>\n",
              "      <td>1</td>\n",
              "      <td>1</td>\n",
              "      <td>0</td>\n",
              "      <td>0</td>\n",
              "      <td>1</td>\n",
              "      <td>1</td>\n",
              "      <td>0</td>\n",
              "      <td>0</td>\n",
              "      <td>1</td>\n",
              "      <td>1</td>\n",
              "      <td>0</td>\n",
              "      <td>1</td>\n",
              "      <td>0</td>\n",
              "      <td>0</td>\n",
              "      <td>0</td>\n",
              "      <td>1</td>\n",
              "      <td>0</td>\n",
              "      <td>0</td>\n",
              "      <td>0</td>\n",
              "      <td>0</td>\n",
              "      <td>0</td>\n",
              "      <td>0</td>\n",
              "      <td>1</td>\n",
              "      <td>0</td>\n",
              "      <td>1</td>\n",
              "      <td>1</td>\n",
              "      <td>0</td>\n",
              "      <td>...</td>\n",
              "      <td>0</td>\n",
              "      <td>0</td>\n",
              "      <td>0</td>\n",
              "      <td>1</td>\n",
              "      <td>0</td>\n",
              "      <td>0</td>\n",
              "      <td>0</td>\n",
              "      <td>0</td>\n",
              "      <td>0</td>\n",
              "      <td>Blog/Medium do Data Hackers</td>\n",
              "      <td>0</td>\n",
              "      <td>0</td>\n",
              "      <td>0</td>\n",
              "      <td>0</td>\n",
              "      <td>0</td>\n",
              "      <td>0</td>\n",
              "      <td>0</td>\n",
              "      <td>0</td>\n",
              "      <td>0</td>\n",
              "      <td>0</td>\n",
              "      <td>1</td>\n",
              "      <td>1</td>\n",
              "      <td>1</td>\n",
              "      <td>1</td>\n",
              "      <td>0</td>\n",
              "      <td>0</td>\n",
              "      <td>0</td>\n",
              "      <td>0</td>\n",
              "      <td>0</td>\n",
              "      <td>0</td>\n",
              "      <td>0</td>\n",
              "      <td>Udemy</td>\n",
              "      <td>NaN</td>\n",
              "      <td>1.0</td>\n",
              "      <td>NaN</td>\n",
              "      <td>NaN</td>\n",
              "      <td>Computação / Engenharia de Software / Sistemas...</td>\n",
              "      <td>Internet/Ecommerce</td>\n",
              "      <td>C-level (CDO, CIO, CTO)</td>\n",
              "      <td>NaN</td>\n",
              "    </tr>\n",
              "  </tbody>\n",
              "</table>\n",
              "<p>5 rows × 170 columns</p>\n",
              "</div>"
            ],
            "text/plain": [
              "                       ('P0', 'id')  ...             ('D6', 'anonymized_role')\n",
              "0  v9otv8j9wdvjrv9otvwnn9owhzq54ktv  ...                                Outras\n",
              "1  875ul998t0hqcv0871uptwf3oswcfv35  ...        Data Analyst/Analista de Dados\n",
              "2  puscuk079vw1pusbb900pzw2xvpxtgdk  ...                                Outras\n",
              "3  rmel8ewqpbffp2mnfbzermel8eqincov  ...  Business Intelligence/Analista de BI\n",
              "4  pj9mgud4d6mdct1l7vq0pj9mgu78h6ju  ...                                   NaN\n",
              "\n",
              "[5 rows x 170 columns]"
            ]
          },
          "metadata": {
            "tags": []
          },
          "execution_count": 112
        }
      ]
    },
    {
      "cell_type": "markdown",
      "metadata": {
        "id": "ibv-cg8mV7fL"
      },
      "source": [
        "##Preparação dos dados\r\n",
        "Nessa sessão, estamos modificando algumas variáveis, preparando os dados para a análise exploratória.\r\n",
        "\r\n",
        "Algumas das modificações realizadas foram:\r\n",
        "\r\n",
        "  * Categorizar o tamanho das empresas entre, pequena, média e grande, de acordo com o seu número de funcionários\r\n",
        "  * Agrupar as profissões com características semelhantes\r\n",
        "  * Recategorizar o tempo de experiência, já que algumas categorias da variável original apresentavam inconsistência\r\n",
        "  * Estabelecer uma ordem para a variável de escolaridade\r\n",
        "  * Criar uma variável discreta de salário, pegando o ponto médio das faixas salariais\r\n",
        "  * Categorizar a variável de idade\r\n",
        "  * Renomear as variáveis mais utilzadas para facilitar seu acesso\r\n",
        "  * Criar subconjuntos de dados de cada uma da profissão de interesse\r\n",
        "\r\n"
      ]
    },
    {
      "cell_type": "code",
      "metadata": {
        "id": "67nzyDY4h5JU"
      },
      "source": [
        "#Agrupando as profissões\r\n",
        "profmap = {'Desenvolvedor ou Engenheiro de Software': 'Desenvolvedor/Engenheiro de Software', \r\n",
        "                                            'Outras': 'Outras',\r\n",
        "                 'Data Scientist/Cientista de Dados': 'Cientista de Dados',\r\n",
        "                    'Data Analyst/Analista de Dados': 'Analista de Dados',\r\n",
        "              'Business Intelligence/Analista de BI': 'Analista de BI',\r\n",
        "                 'Data Engineer/Engenheiro de Dados': 'Engenheiro de Dados',\r\n",
        "             'Business Analyst/Analista de Negócios': 'Analista de BI',\r\n",
        "               'Analista de Inteligência de Mercado': 'Analista de BI',\r\n",
        "                                        'Engenheiro': 'Outras',\r\n",
        "                             'Analista de Marketing': 'Outras',\r\n",
        "                    'Engenheiro de Machine Learning': 'Cientista de Dados',\r\n",
        "               'DBA/Administrador de Banco de Dados': 'Engenheiro de Dados',\r\n",
        "                                       'Estatístico': 'Cientista de Dados',\r\n",
        "                                        'Economista': 'Outras'}\r\n",
        "\r\n",
        "           \r\n",
        "dados['profissao'] = dados[\"('D6', 'anonymized_role')\"].map(profmap) \r\n",
        "\r\n",
        "\r\n",
        "#Criando tamanho da empresa\r\n",
        "tammap = { 'de 1 a 5': 'Pequena',\r\n",
        "           'de 6 a 10': 'Pequena',\r\n",
        "           'de 11 a 50': 'Pequena',\r\n",
        "           'de 51 a 100': 'Pequena',\r\n",
        "           'de 101 a 500': 'Média',\r\n",
        "           'de 501 a 1000': 'Média',\r\n",
        "           'de 1001 a 3000': 'Grande',\r\n",
        "           'Acima de 3000': 'Grande'}\r\n",
        "\r\n",
        "           \r\n",
        "\r\n",
        "#Recategorizando experiência\r\n",
        "temp_xp_ds = {\r\n",
        "    \r\n",
        "    'Menos de 1 ano':'Até 1 ano',\r\n",
        "    'Não tenho experiência na área de dados':'Até 1 ano',\r\n",
        "    'de 1 a 2 anos':'De 1 a 3 anos',\r\n",
        "    'de 2 a 3 anos':'De 1 a 3 anos',\r\n",
        "    'de 4 a 5 anos':'De 3 a 5 anos',\r\n",
        "    'de 6 a 10 anos':'Maior que 5',\r\n",
        "    'Mais de 10 anos':'Maior que 5'  \r\n",
        "\r\n",
        "}\r\n",
        "\r\n",
        "\r\n",
        "\r\n",
        "#Ordenando escolaridade\r\n",
        "esc_map = CategoricalDtype(\r\n",
        "  ['Prefiro não informar','Não tenho graduação formal',\r\n",
        "  'Estudante de Graduação','Graduação/Bacharelado',\r\n",
        "  'Pós-graduação','Mestrado','Doutorado ou Phd'],\r\n",
        "           ordered=True\r\n",
        ")\r\n",
        "\r\n",
        "\r\n",
        "#Discretizando salario\r\n",
        "salamap = {    'Menos de R$ 1.000/mês': 1000,\r\n",
        "      'de R$ 1.001/mês a R$ 2.000/mês': 1500, \r\n",
        "       'de R$ 2.001/mês a R$ 3000/mês': 2500,\r\n",
        "      'de R$ 3.001/mês a R$ 4.000/mês': 3500,\r\n",
        "      'de R$ 4.001/mês a R$ 6.000/mês': 5000, \r\n",
        "      'de R$ 6.001/mês a R$ 8.000/mês': 7000,\r\n",
        "     'de R$ 8.001/mês a R$ 12.000/mês': 10000,\r\n",
        "    'de R$ 12.001/mês a R$ 16.000/mês': 14000,\r\n",
        "    'de R$ 16.001/mês a R$ 20.000/mês': 18000,\r\n",
        "    'de R$ 20.001/mês a R$ 25.000/mês': 22500, \r\n",
        "              'Acima de R$ 25.001/mês': 25000}\r\n",
        "\r\n",
        "\r\n",
        "\r\n",
        "#Discretização da idade \r\n",
        "cortes = [0, 24, 30, 40, 100]\r\n",
        "nomes = ['[18,24]', '[25,30]', '[31,40]', '[41,50]']\r\n",
        "\r\n",
        "#Criando um novo dataset com as informações de maior interesse \r\n",
        "dados['idade'] = pd.cut(dados[\"('P1', 'age')\"], bins = cortes, labels = nomes)\r\n",
        "dados['salario'] = dados[\"('P16', 'salary_range')\"].map(salamap)  \r\n",
        "dados['tamanho_da_empresa'] = dados[\"('P12', 'workers_number')\"].map(tammap) \r\n",
        "dados['gestor'] = dados[\"('P13', 'manager')\"].map({0: 'não', 1: 'sim'})\r\n",
        "dados['se_considera_ds'] = dados[\"('P19', 'is_data_science_professional')\"].map({0: 'não', 1: 'sim'})\r\n",
        "dados['sexo'] = dados[\"('P2', 'gender')\"]\r\n",
        "dados['experiencia_ds'] = dados[\"('P17', 'time_experience_data_science')\"].map(temp_xp_ds)\r\n",
        "dados['tipo_de_trabalho'] = dados[\"('P10', 'job_situation')\"]\r\n",
        "dados['escolaridade'] = dados[\"('P8', 'degreee_level')\"].astype(esc_map)\r\n",
        "dados['area_de_formacao'] = dados[\"('D3', 'anonymized_degree_area')\"]\r\n",
        "dados['setor_de_mercado'] = dados[\"('D4', 'anonymized_market_sector')\"]\r\n",
        "dados['plataforma_favorita'] = dados[\"('P35', 'data_science_plataforms_preference')\"] \r\n",
        "\r\n",
        "#Criando conjuntos de dados convenientes através de alguns filtros\r\n",
        "#Profissoes de dados\r\n",
        "\r\n",
        "lista = ['Cientista de Dados', 'Analista de Dados', 'Analista de BI', 'Engenheiro de Dados']\r\n",
        "pds = dados[dados['profissao'].isin(lista)]\r\n",
        "cds = dados[dados['profissao'] == 'Cientista de Dados'] \r\n",
        "ads = dados[dados['profissao'] == 'Analista de Dados'] \r\n",
        "abi = dados[dados['profissao'] == 'Analista de BI'] \r\n",
        "eds = dados[dados['profissao'] == 'Engenheiro de Dados'] \r\n"
      ],
      "execution_count": 113,
      "outputs": []
    },
    {
      "cell_type": "markdown",
      "metadata": {
        "id": "05YeqtfZ9Xu2"
      },
      "source": [
        "##Paleta de cores\r\n",
        "Aqui criamos uma paleta de cores a fim de padronizar a exposição dos gráficos."
      ]
    },
    {
      "cell_type": "code",
      "metadata": {
        "id": "S4bAuY0FXuio"
      },
      "source": [
        "#Criando paleta de cores\r\n",
        "cores = ['#080047','#110099','#3219FF','#197CFF','#6BAAFF','#6BDEFF','#A8ECFF']\r\n",
        "cores2 = ['#080047','#197CFF']\r\n",
        "cores3 = ['#080047','#197CFF','#A8ECFF']\r\n",
        "cores4 = ['#080047','#3219FF','#6BAAFF','#A8ECFF']\r\n",
        "cores1 = ['#197CFF']\r\n",
        "cores_venn = ['#080047','#197CFF','#778899']\r\n"
      ],
      "execution_count": 114,
      "outputs": []
    },
    {
      "cell_type": "markdown",
      "metadata": {
        "id": "K5HcYhXz91Vh"
      },
      "source": [
        "#Análise exploratória\r\n",
        "\r\n",
        "Nessa seção iniciaremos a exploração das variáveis. Primeiro, olhamos para as variáveis individualmente, depois cruzaremos as informações para observar as condicionantes do perfil do profissional de dados.\r\n"
      ]
    },
    {
      "cell_type": "markdown",
      "metadata": {
        "id": "zks7MM3D-UZN"
      },
      "source": [
        "##As principais profissões\r\n",
        "Aqui verificamos a relação das profissões individualmente, seus salários, e agrupamentos de acordo com suas características."
      ]
    },
    {
      "cell_type": "code",
      "metadata": {
        "colab": {
          "base_uri": "https://localhost:8080/",
          "height": 265
        },
        "id": "kvEiI5wfsU-p",
        "outputId": "c18a9be1-1d6e-4ac6-c19b-3f90775e6769"
      },
      "source": [
        "#Profissões gerais desagrupadas\r\n",
        "plt = dados[\"('D6', 'anonymized_role')\"].value_counts().plot(kind = 'barh', color = cores1)"
      ],
      "execution_count": 115,
      "outputs": [
        {
          "output_type": "display_data",
          "data": {
            "image/png": "[encoded data removed]",
            "text/plain": [
              "<Figure size 432x288 with 1 Axes>"
            ]
          },
          "metadata": {
            "tags": [],
            "needs_background": "light"
          }
        }
      ]
    },
    {
      "cell_type": "markdown",
      "metadata": {
        "id": "cQt7-7tQmZar"
      },
      "source": [
        "Através da figura de profissões desagrupadas, notam-se que as profissões que mais se destacam em termos de frequência são as de Desenvolvedor ou Engenheiro de Software, Cientista de Dados, e Analista de Dados. A ideia principal nessa análise é agrupar as principais profissões, e analisá-las, em especial o Cientista de Dados."
      ]
    },
    {
      "cell_type": "code",
      "metadata": {
        "colab": {
          "base_uri": "https://localhost:8080/"
        },
        "id": "JvHoKm-Np3T9",
        "outputId": "284a7c3e-d8c2-44e1-e3b6-0a5f680dc89d"
      },
      "source": [
        "#Profissões gerais \r\n",
        "plt=dados['profissao'].value_counts()#.plot(kind = 'barh',legend = False)\r\n",
        "plt\r\n",
        "#plt.set_xlabel('Frequencia')\r\n",
        "#plt.set_ylabel('Profissão')"
      ],
      "execution_count": 116,
      "outputs": [
        {
          "output_type": "execute_result",
          "data": {
            "text/plain": [
              "Outras                                  275\n",
              "Analista de BI                          251\n",
              "Desenvolvedor/Engenheiro de Software    225\n",
              "Cientista de Dados                      193\n",
              "Analista de Dados                       163\n",
              "Engenheiro de Dados                     144\n",
              "Name: profissao, dtype: int64"
            ]
          },
          "metadata": {
            "tags": []
          },
          "execution_count": 116
        }
      ]
    },
    {
      "cell_type": "markdown",
      "metadata": {
        "id": "rZ6Ld7_anwtH"
      },
      "source": [
        "Após o agrupamento nas 4 profissões de interesse, observamos uma frequência maior para a categoria de outras profissões. A ideia é focar nas profissões de dados explorando somente essas categorias."
      ]
    },
    {
      "cell_type": "code",
      "metadata": {
        "colab": {
          "base_uri": "https://localhost:8080/",
          "height": 175
        },
        "id": "Pu61joLvgyMp",
        "outputId": "95a95e73-e076-4a4c-eb05-a36ef4229f22"
      },
      "source": [
        "#Salários Gerais\r\n",
        "lista_p = ['Cientista de Dados', 'Analista de Dados', \r\n",
        "                              'Analista de BI', 'Engenheiro de Dados']\r\n",
        "banco_tmep = {}\r\n",
        "   \r\n",
        "for var_tmp in lista_p:\r\n",
        "\r\n",
        "  banco_tmep[var_tmp] = [dados['salario'][dados['profissao'] == var_tmp].mean()]\r\n",
        "\r\n",
        "banco_tmep = pd.DataFrame(banco_tmep)\r\n",
        "banco_tmep = banco_tmep.round(2).T\r\n",
        "banco_tmep.columns = [\"Salário\"]\r\n",
        "banco_tmep = banco_tmep.sort_values('Salário')\r\n",
        "banco_tmep\r\n",
        "#plt=banco_tmep.plot(kind=\"barh\")"
      ],
      "execution_count": 117,
      "outputs": [
        {
          "output_type": "execute_result",
          "data": {
            "text/html": [
              "<div>\n",
              "<style scoped>\n",
              "    .dataframe tbody tr th:only-of-type {\n",
              "        vertical-align: middle;\n",
              "    }\n",
              "\n",
              "    .dataframe tbody tr th {\n",
              "        vertical-align: top;\n",
              "    }\n",
              "\n",
              "    .dataframe thead th {\n",
              "        text-align: right;\n",
              "    }\n",
              "</style>\n",
              "<table border=\"1\" class=\"dataframe\">\n",
              "  <thead>\n",
              "    <tr style=\"text-align: right;\">\n",
              "      <th></th>\n",
              "      <th>Salário</th>\n",
              "    </tr>\n",
              "  </thead>\n",
              "  <tbody>\n",
              "    <tr>\n",
              "      <th>Analista de BI</th>\n",
              "      <td>4978.09</td>\n",
              "    </tr>\n",
              "    <tr>\n",
              "      <th>Analista de Dados</th>\n",
              "      <td>5036.81</td>\n",
              "    </tr>\n",
              "    <tr>\n",
              "      <th>Cientista de Dados</th>\n",
              "      <td>6831.61</td>\n",
              "    </tr>\n",
              "    <tr>\n",
              "      <th>Engenheiro de Dados</th>\n",
              "      <td>7802.08</td>\n",
              "    </tr>\n",
              "  </tbody>\n",
              "</table>\n",
              "</div>"
            ],
            "text/plain": [
              "                     Salário\n",
              "Analista de BI       4978.09\n",
              "Analista de Dados    5036.81\n",
              "Cientista de Dados   6831.61\n",
              "Engenheiro de Dados  7802.08"
            ]
          },
          "metadata": {
            "tags": []
          },
          "execution_count": 117
        }
      ]
    },
    {
      "cell_type": "markdown",
      "metadata": {
        "id": "8i3HrdySo7Id"
      },
      "source": [
        "Na tabela acima, observamos os salários médios de cada uma das profissões de dados. Observamos que a profissão que mais se destaca é Engenheiro de Dados, seguido por Cientista de Dados, Analista de Dados e Analista de BI"
      ]
    },
    {
      "cell_type": "markdown",
      "metadata": {
        "id": "ysRpDxQh_Jyj"
      },
      "source": [
        "##Cientista de Dados\r\n",
        "Dentre as profissões de dados, as que temos mais interesse é a de cientísta de dados, logo, iremos aprofundar a análise apenas para o profissional cientista de dados"
      ]
    },
    {
      "cell_type": "code",
      "metadata": {
        "colab": {
          "base_uri": "https://localhost:8080/"
        },
        "id": "lht59H5-ilNp",
        "outputId": "dbcb1504-9f13-431c-c427-8c1c9f703aa6"
      },
      "source": [
        "dados.salario.mean()"
      ],
      "execution_count": 118,
      "outputs": [
        {
          "output_type": "execute_result",
          "data": {
            "text/plain": [
              "6283.235101506221"
            ]
          },
          "metadata": {
            "tags": []
          },
          "execution_count": 118
        }
      ]
    },
    {
      "cell_type": "markdown",
      "metadata": {
        "id": "LqmFVq8b-xSy"
      },
      "source": [
        "###Idade, gênero e suas relações\r\n",
        "Dentre as variáveis sociodemográficas de interesse, se destacam gênero e idade por frequentemente serem associadas a desigualdades na frequência de suas populações."
      ]
    },
    {
      "cell_type": "code",
      "metadata": {
        "colab": {
          "base_uri": "https://localhost:8080/",
          "height": 283
        },
        "id": "7ppmmGIBs2bP",
        "outputId": "b48eaac5-12d3-4f71-e656-0545e3e46919"
      },
      "source": [
        "#Verificando idade\r\n",
        "plt = cds[\"('P1', 'age')\"].plot(kind = 'hist', edgecolor = 'black', color = cores1)\r\n",
        "abi[\"('P1', 'age')\"].median()"
      ],
      "execution_count": 119,
      "outputs": [
        {
          "output_type": "execute_result",
          "data": {
            "text/plain": [
              "28.0"
            ]
          },
          "metadata": {
            "tags": []
          },
          "execution_count": 119
        },
        {
          "output_type": "display_data",
          "data": {
            "image/png": "[encoded data removed]",
            "text/plain": [
              "<Figure size 432x288 with 1 Axes>"
            ]
          },
          "metadata": {
            "tags": [],
            "needs_background": "light"
          }
        }
      ]
    },
    {
      "cell_type": "markdown",
      "metadata": {
        "id": "QlM4JJkHqAUn"
      },
      "source": [
        "Observamos que a faixa de idade dos profissionais vai de 20 até 45 anos, sendo a faixa etária mais frequente a que vai de 25 até 30 anos"
      ]
    },
    {
      "cell_type": "code",
      "metadata": {
        "colab": {
          "base_uri": "https://localhost:8080/"
        },
        "id": "bnGUMeWatyqr",
        "outputId": "9d72859d-b30e-45d9-dba2-c6852fb26d5f"
      },
      "source": [
        "#Frequencia por Gênero\r\n",
        "plt = cds['sexo'].value_counts()\r\n",
        "plt"
      ],
      "execution_count": 120,
      "outputs": [
        {
          "output_type": "execute_result",
          "data": {
            "text/plain": [
              "Masculino    161\n",
              "Feminino      31\n",
              "Name: sexo, dtype: int64"
            ]
          },
          "metadata": {
            "tags": []
          },
          "execution_count": 120
        }
      ]
    },
    {
      "cell_type": "code",
      "metadata": {
        "colab": {
          "base_uri": "https://localhost:8080/",
          "height": 283
        },
        "id": "1Suj-8m1VTrs",
        "outputId": "4726c640-cfa3-4b11-9945-b953e5bea4e1"
      },
      "source": [
        "plt = plt.plot(kind = 'barh',color = cores2) \r\n",
        "plt"
      ],
      "execution_count": 121,
      "outputs": [
        {
          "output_type": "execute_result",
          "data": {
            "text/plain": [
              "<matplotlib.axes._subplots.AxesSubplot at 0x7f3530822ef0>"
            ]
          },
          "metadata": {
            "tags": []
          },
          "execution_count": 121
        },
        {
          "output_type": "display_data",
          "data": {
            "image/png": "[encoded data removed]",
            "text/plain": [
              "<Figure size 432x288 with 1 Axes>"
            ]
          },
          "metadata": {
            "tags": [],
            "needs_background": "light"
          }
        }
      ]
    },
    {
      "cell_type": "markdown",
      "metadata": {
        "id": "OQtXTr50sHCu"
      },
      "source": [
        "O gap entre a frequência dos profissionais do gênero feminino e masculino é grande, representando o gênero feminino, apenas 16% dos profissionais da área de dados leia-se Engenheiro de Dados, Cientista de Dados, Analista de Dados e Analista de BI. "
      ]
    },
    {
      "cell_type": "code",
      "metadata": {
        "colab": {
          "base_uri": "https://localhost:8080/"
        },
        "id": "hp7SlseBtR-t",
        "outputId": "df0d97b6-7b53-4f36-f0c5-e19911cb77f5"
      },
      "source": [
        "#Salário: Sexo x Idade\r\n",
        "plt = cds.groupby('idade').mean()['salario']#.unstack().T#.plot(kind = 'bar',color = cores2)\r\n",
        "plt"
      ],
      "execution_count": 57,
      "outputs": [
        {
          "output_type": "execute_result",
          "data": {
            "text/plain": [
              "idade\n",
              "[18,24]     3724.489796\n",
              "[25,30]     6324.468085\n",
              "[31,40]    11083.333333\n",
              "[41,50]    10642.857143\n",
              "Name: salario, dtype: float64"
            ]
          },
          "metadata": {
            "tags": []
          },
          "execution_count": 57
        }
      ]
    },
    {
      "cell_type": "code",
      "metadata": {
        "colab": {
          "base_uri": "https://localhost:8080/",
          "height": 306
        },
        "id": "Xnk4kzG6uXqF",
        "outputId": "91d69a60-85e7-4044-d5fe-7520664ef4c9"
      },
      "source": [
        "#Salário: Sexo x Idade\r\n",
        "\r\n",
        "plt = cds.groupby(['sexo', 'idade']).mean()['salario'].unstack(\r\n",
        "    ).T.plot(kind = 'bar',color = cores2)"
      ],
      "execution_count": 58,
      "outputs": [
        {
          "output_type": "display_data",
          "data": {
            "image/png": "[encoded data removed]",
            "text/plain": [
              "<Figure size 432x288 with 1 Axes>"
            ]
          },
          "metadata": {
            "tags": [],
            "needs_background": "light"
          }
        }
      ]
    },
    {
      "cell_type": "markdown",
      "metadata": {
        "id": "cn-Jg2qOs_R9"
      },
      "source": [
        "Nota-se que não somente as frequências são dispares, mas também os salários entre os gêneros. Verificando as faixas de idade por salário observa-se uma ascensão do salário quando visto de acordo com cada faixa etária. Nota-se também que a diferença de salário entre gênero é menor para as faixas etárias de 18 a 24 e de 25 a 30, em relação as faixas superiores.  "
      ]
    },
    {
      "cell_type": "markdown",
      "metadata": {
        "id": "ljd9pJB6_veM"
      },
      "source": [
        "###Tamanho da empresa"
      ]
    },
    {
      "cell_type": "code",
      "metadata": {
        "colab": {
          "base_uri": "https://localhost:8080/",
          "height": 265
        },
        "id": "RFVOWTGuwJJd",
        "outputId": "48545c79-4c96-4a17-b222-1a067c9865f0"
      },
      "source": [
        "#Frequencia: Tamanho da empresa\r\n",
        "plt = cds.groupby('tamanho_da_empresa').count()['salario'].plot(kind = \"barh\",\r\n",
        "                                                              color = cores1) "
      ],
      "execution_count": 59,
      "outputs": [
        {
          "output_type": "display_data",
          "data": {
            "image/png": "[encoded data removed]",
            "text/plain": [
              "<Figure size 432x288 with 1 Axes>"
            ]
          },
          "metadata": {
            "tags": [],
            "needs_background": "light"
          }
        }
      ]
    },
    {
      "cell_type": "code",
      "metadata": {
        "colab": {
          "base_uri": "https://localhost:8080/"
        },
        "id": "hf-BfYFKxoXl",
        "outputId": "5b006ba3-7b77-4b48-f77f-a7b36c5a3b3e"
      },
      "source": [
        "#Salário: Tamanho da empresa\r\n",
        "plt = cds.groupby('tamanho_da_empresa').mean()['salario']#.plot(kind=\"barh\", color=cores1)  \r\n",
        "plt\r\n"
      ],
      "execution_count": 60,
      "outputs": [
        {
          "output_type": "execute_result",
          "data": {
            "text/plain": [
              "tamanho_da_empresa\n",
              "Grande     8079.365079\n",
              "Média      7260.273973\n",
              "Pequena    4903.508772\n",
              "Name: salario, dtype: float64"
            ]
          },
          "metadata": {
            "tags": []
          },
          "execution_count": 60
        }
      ]
    },
    {
      "cell_type": "markdown",
      "metadata": {
        "id": "szqNoAmrtiDT"
      },
      "source": [
        "É possível observar que dentre as classes de tamanhos de empresas a mais frequente é a de tamanho médio. Nota-se também que o salário médio aumenta de acordo com o tamanho da empresa."
      ]
    },
    {
      "cell_type": "code",
      "metadata": {
        "colab": {
          "base_uri": "https://localhost:8080/",
          "height": 313
        },
        "id": "JFcsF1-dpT89",
        "outputId": "8a60545e-9181-41f6-d50e-a318f4889a9b"
      },
      "source": [
        "#Salário: Sexo x Tamanho da empresa\r\n",
        "plt = cds.groupby(['sexo', 'tamanho_da_empresa']).mean()['salario'].unstack(\r\n",
        "    ).T.plot(kind = 'bar', color =  cores2)"
      ],
      "execution_count": 61,
      "outputs": [
        {
          "output_type": "display_data",
          "data": {
            "image/png": "[encoded data removed]",
            "text/plain": [
              "<Figure size 432x288 with 1 Axes>"
            ]
          },
          "metadata": {
            "tags": [],
            "needs_background": "light"
          }
        }
      ]
    },
    {
      "cell_type": "code",
      "metadata": {
        "colab": {
          "base_uri": "https://localhost:8080/",
          "height": 313
        },
        "id": "ZihDq4__p82y",
        "outputId": "744829f2-3993-4230-f35b-155da77867ce"
      },
      "source": [
        "#Frequencia: Sexo x Tamanho da empresa\r\n",
        "plt = cds.groupby(['sexo', 'tamanho_da_empresa']).count()['salario'].unstack(\r\n",
        "    ).T.plot(kind = 'bar', color = cores2)"
      ],
      "execution_count": 62,
      "outputs": [
        {
          "output_type": "display_data",
          "data": {
            "image/png": "[encoded data removed]",
            "text/plain": [
              "<Figure size 432x288 with 1 Axes>"
            ]
          },
          "metadata": {
            "tags": [],
            "needs_background": "light"
          }
        }
      ]
    },
    {
      "cell_type": "markdown",
      "metadata": {
        "id": "NCTAXGh_vjIW"
      },
      "source": [
        "O gênero masculino é predominante em empresas de todos os tamanhos, em especial as empresas de tamanho médio, apresentam uma menor diferença entre os gêneros em relação as demais. Já os salários médios entre os gêneros são distintos nas empresas. Empresas de tamanho médio apresentam maior diferença de salário sendo o salário médio masculino maior que o feminino. Já nas empresas grande o salário médio feminino é maior que o masculino. Entretanto essa segmentação de dados apresenta pouca frequência o que pode não apresentar uma forte significância estatística."
      ]
    },
    {
      "cell_type": "code",
      "metadata": {
        "colab": {
          "base_uri": "https://localhost:8080/",
          "height": 265
        },
        "id": "-ZwQjHRuqJg_",
        "outputId": "a279cb44-749f-4925-956c-5d8aa8474526"
      },
      "source": [
        "#Frequencia: Idade x Tamanho da empresa\r\n",
        "plt = cds.groupby(['idade', 'tamanho_da_empresa']).count()['salario'].unstack(\r\n",
        "    ).T.plot(kind = 'barh', color = cores4[::-1])"
      ],
      "execution_count": 63,
      "outputs": [
        {
          "output_type": "display_data",
          "data": {
            "image/png": "[encoded data removed]",
            "text/plain": [
              "<Figure size 432x288 with 1 Axes>"
            ]
          },
          "metadata": {
            "tags": [],
            "needs_background": "light"
          }
        }
      ]
    },
    {
      "cell_type": "code",
      "metadata": {
        "colab": {
          "base_uri": "https://localhost:8080/",
          "height": 313
        },
        "id": "JVTYUDKcql7h",
        "outputId": "e9f2f7ae-ad38-472d-efce-ee2c99e8286f"
      },
      "source": [
        "#Salário: Idade x Tamanho da empresa\r\n",
        "plt = cds.groupby(['idade', 'tamanho_da_empresa']).mean()['salario'].unstack(\r\n",
        "    \r\n",
        ").T.plot(kind = 'bar', color = cores4[::-1])\r\n",
        "\r\n"
      ],
      "execution_count": 64,
      "outputs": [
        {
          "output_type": "display_data",
          "data": {
            "image/png": "[encoded data removed]",
            "text/plain": [
              "<Figure size 432x288 with 1 Axes>"
            ]
          },
          "metadata": {
            "tags": [],
            "needs_background": "light"
          }
        }
      ]
    },
    {
      "cell_type": "markdown",
      "metadata": {
        "id": "NTY_saSRw1UZ"
      },
      "source": [
        "O perfil de idade é semelhante em presas de todos os tamanhos, sendo a faixa mais frequente a de 25 a 30 anos. Já em termos de salário o perfil de idade dentre os tamanhos de empresa se difere. Nas empresas de tamanho grande, quanto maior a idade maior o salário, já nas empresas de tamanho médio e pequeno a faixa etária com maior salário é a de 31 a 40 anos. "
      ]
    },
    {
      "cell_type": "code",
      "metadata": {
        "colab": {
          "base_uri": "https://localhost:8080/",
          "height": 313
        },
        "id": "u5EB1OcNOLhq",
        "outputId": "58a74174-2112-4368-97a7-c253afc760f0"
      },
      "source": [
        "#Frequencia: Escolaridade x Tamanho da empresa\r\n",
        "plt = cds.groupby(['escolaridade',\r\n",
        "                   'tamanho_da_empresa']).count()['salario'].unstack(\r\n",
        "    \r\n",
        ").T.plot(kind = 'bar', color = cores[::-1]).legend(loc='center left',\r\n",
        "                                                  bbox_to_anchor = (1, 0.5))\r\n"
      ],
      "execution_count": 65,
      "outputs": [
        {
          "output_type": "display_data",
          "data": {
            "image/png": "[encoded data removed]",
            "text/plain": [
              "<Figure size 432x288 with 1 Axes>"
            ]
          },
          "metadata": {
            "tags": [],
            "needs_background": "light"
          }
        }
      ]
    },
    {
      "cell_type": "code",
      "metadata": {
        "colab": {
          "base_uri": "https://localhost:8080/",
          "height": 313
        },
        "id": "qJAtjMHVT1HM",
        "outputId": "420fe455-abca-48d6-c750-88e4d8658dd8"
      },
      "source": [
        "#Salário: Escolaridade x Tamanho da empresa\r\n",
        "plt = cds.groupby(['escolaridade',\r\n",
        "                   'tamanho_da_empresa']).mean()['salario'].unstack(\r\n",
        "    ).T.plot(kind = 'bar', color=cores[::-1]).legend(loc = 'center left',\r\n",
        "                                                bbox_to_anchor = (1, 0.5))"
      ],
      "execution_count": 66,
      "outputs": [
        {
          "output_type": "display_data",
          "data": {
            "image/png": "[encoded data removed]",
            "text/plain": [
              "<Figure size 432x288 with 1 Axes>"
            ]
          },
          "metadata": {
            "tags": [],
            "needs_background": "light"
          }
        }
      ]
    },
    {
      "cell_type": "markdown",
      "metadata": {
        "id": "OwBNlGg0x37W"
      },
      "source": [
        "A escolaridade se difere dentre os tamanhos das empresas, onde empresas maiores tem mais profissionais com graduação, pós graduação e mestrado. Já as empresas de tamanho pequeno e médio a frequência dos profissionais com apenas graduação é soberana. Com foco em salário o cenário se difere, as empresas grandes pagam melhor os profissionais de acordo com suas escolaridades, sendo os profissionais com doutorado, mais bem pagos em relações aos demais. "
      ]
    },
    {
      "cell_type": "code",
      "metadata": {
        "colab": {
          "base_uri": "https://localhost:8080/",
          "height": 313
        },
        "id": "Cfl87AROT_zo",
        "outputId": "4a4af0ed-80fc-4158-ed31-5013b32eea27"
      },
      "source": [
        "#Frequencia: Experiencia em DS x Tamanho da empresa\r\n",
        "plt = cds.groupby(['experiencia_ds',\r\n",
        "                   'tamanho_da_empresa']).count()['salario'].unstack(\r\n",
        "    \r\n",
        ").T.plot(kind = 'bar', color = cores4[::-1]).legend(loc = 'center left',\r\n",
        "                                                   bbox_to_anchor=(1, 0.5))\r\n",
        "\r\n"
      ],
      "execution_count": 67,
      "outputs": [
        {
          "output_type": "display_data",
          "data": {
            "image/png": "[encoded data removed]",
            "text/plain": [
              "<Figure size 432x288 with 1 Axes>"
            ]
          },
          "metadata": {
            "tags": [],
            "needs_background": "light"
          }
        }
      ]
    },
    {
      "cell_type": "code",
      "metadata": {
        "colab": {
          "base_uri": "https://localhost:8080/",
          "height": 313
        },
        "id": "-cPaJl0jUN11",
        "outputId": "636b9dc8-cc2c-45f6-b91f-54c33bb7968f"
      },
      "source": [
        "#Salário: Experiencia em DS x Tamanho da empresa\r\n",
        "plt = cds.groupby(['experiencia_ds', \r\n",
        "                   'tamanho_da_empresa']).mean()['salario'].unstack(\r\n",
        "    ).T.plot(kind = 'bar', color = cores4[::-1]).legend(loc = 'center left',\r\n",
        "                                                   bbox_to_anchor=(1, 0.5))"
      ],
      "execution_count": 68,
      "outputs": [
        {
          "output_type": "display_data",
          "data": {
            "image/png": "[encoded data removed]",
            "text/plain": [
              "<Figure size 432x288 with 1 Axes>"
            ]
          },
          "metadata": {
            "tags": [],
            "needs_background": "light"
          }
        }
      ]
    },
    {
      "cell_type": "markdown",
      "metadata": {
        "id": "B9-iIpjDEzfK"
      },
      "source": [
        "A experiência em Data Science é uma variável chave, quando se analisa o perfil do profissional. A faixa de experiência mais frequente é de 1 a 3 anos. Já o salário dentre as classes de experiência, é possível observar que quanto maior a experiência maior é o salário. "
      ]
    },
    {
      "cell_type": "markdown",
      "metadata": {
        "id": "KLTmhD6DAQBj"
      },
      "source": [
        "###Experiência em Data Science"
      ]
    },
    {
      "cell_type": "code",
      "metadata": {
        "colab": {
          "base_uri": "https://localhost:8080/",
          "height": 265
        },
        "id": "qO-5vOQfynnr",
        "outputId": "b98711bb-be7a-4d06-d204-88082a9e373c"
      },
      "source": [
        "#Frequencia: Experiencia em Data Science\r\n",
        "plt = cds.groupby('experiencia_ds').count()['salario'].plot(kind = \"barh\", color = cores1) "
      ],
      "execution_count": 69,
      "outputs": [
        {
          "output_type": "display_data",
          "data": {
            "image/png": "[encoded data removed]",
            "text/plain": [
              "<Figure size 432x288 with 1 Axes>"
            ]
          },
          "metadata": {
            "tags": [],
            "needs_background": "light"
          }
        }
      ]
    },
    {
      "cell_type": "code",
      "metadata": {
        "colab": {
          "base_uri": "https://localhost:8080/",
          "height": 265
        },
        "id": "x9XtyezTzwoS",
        "outputId": "bfacc20a-3913-4976-b876-0b56d5a60642"
      },
      "source": [
        "#Salario: Experiência em Data Science\r\n",
        "plt = cds.groupby('experiencia_ds').mean()['salario'].plot(kind = \"barh\", color = cores1) "
      ],
      "execution_count": 70,
      "outputs": [
        {
          "output_type": "display_data",
          "data": {
            "image/png": "[encoded data removed]",
            "text/plain": [
              "<Figure size 432x288 with 1 Axes>"
            ]
          },
          "metadata": {
            "tags": [],
            "needs_background": "light"
          }
        }
      ]
    },
    {
      "cell_type": "code",
      "metadata": {
        "colab": {
          "base_uri": "https://localhost:8080/"
        },
        "id": "GctPEsAphQce",
        "outputId": "58ecc2fd-7188-45c7-f254-dacd829bb5de"
      },
      "source": [
        "cds.groupby('experiencia_ds').mean()['salario']"
      ],
      "execution_count": 71,
      "outputs": [
        {
          "output_type": "execute_result",
          "data": {
            "text/plain": [
              "experiencia_ds\n",
              "Até 1 ano         3646.341463\n",
              "De 1 a 3 anos     5930.693069\n",
              "De 3 a 5 anos    10648.148148\n",
              "Maior que 5      11770.833333\n",
              "Name: salario, dtype: float64"
            ]
          },
          "metadata": {
            "tags": []
          },
          "execution_count": 71
        }
      ]
    },
    {
      "cell_type": "markdown",
      "metadata": {
        "id": "2YgUceREzFt5"
      },
      "source": [
        "A faixa de experiência mais frequente é de 1 a 3 anos. Já o salário dentre as classes de experiência, é possível observar que quanto maior a experiência maior é o salário. "
      ]
    },
    {
      "cell_type": "markdown",
      "metadata": {
        "id": "uKCkOnisArZW"
      },
      "source": [
        "###Escolaridade"
      ]
    },
    {
      "cell_type": "code",
      "metadata": {
        "colab": {
          "base_uri": "https://localhost:8080/",
          "height": 265
        },
        "id": "c7RO_jQ5rPAH",
        "outputId": "ecfdb2fb-5eb8-41b2-db46-be2dfafaa464"
      },
      "source": [
        "#Frequencia: Escolaridade\r\n",
        "plt = cds.groupby('escolaridade').count()['salario']\r\n",
        "plt = plt[1:7]\r\n",
        "plt = plt.plot(kind = \"barh\", color = cores1)\r\n"
      ],
      "execution_count": 72,
      "outputs": [
        {
          "output_type": "display_data",
          "data": {
            "image/png": "[encoded data removed]",
            "text/plain": [
              "<Figure size 432x288 with 1 Axes>"
            ]
          },
          "metadata": {
            "tags": [],
            "needs_background": "light"
          }
        }
      ]
    },
    {
      "cell_type": "code",
      "metadata": {
        "colab": {
          "base_uri": "https://localhost:8080/",
          "height": 265
        },
        "id": "ISZS44zqrhmk",
        "outputId": "c4322f5a-5806-4e2d-e6eb-77f649960e65"
      },
      "source": [
        "#Salario: Escolaridade\r\n",
        "plt = cds.groupby('escolaridade').mean()['salario'][1:7].plot(kind = \"barh\",\r\n",
        "                                                              color = cores1)  "
      ],
      "execution_count": 73,
      "outputs": [
        {
          "output_type": "display_data",
          "data": {
            "image/png": "[encoded data removed]",
            "text/plain": [
              "<Figure size 432x288 with 1 Axes>"
            ]
          },
          "metadata": {
            "tags": [],
            "needs_background": "light"
          }
        }
      ]
    },
    {
      "cell_type": "markdown",
      "metadata": {
        "id": "LffjHjqwzOrg"
      },
      "source": [
        "As empresas grandes pagam melhor os profissionais de acordo com suas escolaridades, sendo os profissionais com doutorado, mais bem pagos em relações aos demais. "
      ]
    },
    {
      "cell_type": "markdown",
      "metadata": {
        "id": "zXHeYY33Ax32"
      },
      "source": [
        "###Setor de mercado"
      ]
    },
    {
      "cell_type": "code",
      "metadata": {
        "colab": {
          "base_uri": "https://localhost:8080/",
          "height": 265
        },
        "id": "0I-jqh6NsM8n",
        "outputId": "01be3e98-5006-45fd-eea4-277a2ced958d"
      },
      "source": [
        "#Frequencia: Setor de mercado\r\n",
        "plt = cds.groupby('setor_de_mercado').count()['salario']\r\n",
        "plt = plt.sort_values(ascending = False).plot(kind = \"barh\", color = cores1 )   \r\n"
      ],
      "execution_count": 74,
      "outputs": [
        {
          "output_type": "display_data",
          "data": {
            "image/png": "[encoded data removed]",
            "text/plain": [
              "<Figure size 432x288 with 1 Axes>"
            ]
          },
          "metadata": {
            "tags": [],
            "needs_background": "light"
          }
        }
      ]
    },
    {
      "cell_type": "code",
      "metadata": {
        "colab": {
          "base_uri": "https://localhost:8080/",
          "height": 265
        },
        "id": "UySBRty9sWYY",
        "outputId": "dc3a328b-cc90-4852-bdba-135117f8b815"
      },
      "source": [
        "#Salário: Setor de mercado\r\n",
        "plt = cds.groupby('setor_de_mercado').mean()['salario']\r\n",
        "plt = plt.sort_values(ascending = False).plot(kind = \"barh\" , color = cores1)  "
      ],
      "execution_count": 75,
      "outputs": [
        {
          "output_type": "display_data",
          "data": {
            "image/png": "[encoded data removed]",
            "text/plain": [
              "<Figure size 432x288 with 1 Axes>"
            ]
          },
          "metadata": {
            "tags": [],
            "needs_background": "light"
          }
        }
      ]
    },
    {
      "cell_type": "markdown",
      "metadata": {
        "id": "kkX4_d7S4kza"
      },
      "source": [
        "Entre os setores que mais empregam os profissionais de dados estão a área de tecnologia, finanças ou bancos, varejo, área de saúde, internet e marketing. Entre essas áreas, os salários que mais se destacam são a área de saúde, varejo, finanças e bancos. "
      ]
    },
    {
      "cell_type": "markdown",
      "metadata": {
        "id": "8Fb56NA2BES2"
      },
      "source": [
        "##Linguagens de programação\r\n",
        "Aqui queremos investigar o uso das principais linguagens de programação de acordo com cada profissional da área de dados "
      ]
    },
    {
      "cell_type": "code",
      "metadata": {
        "id": "xGyh3mcTios6"
      },
      "source": [
        "#Criando uma função de seleção dos dados\r\n",
        "\r\n",
        "def n_inner(p, r, s, prof):\r\n",
        "\r\n",
        "    if prof == \"pds\":  lista = ['Cientista de Dados', 'Analista de Dados', \r\n",
        "                                'Analista de BI', 'Engenheiro de Dados']\r\n",
        "    elif prof == \"cds\":  lista = ['Cientista de Dados']\r\n",
        "\r\n",
        "    elif prof == \"ads\":  lista = ['Analista de Dados']\r\n",
        "\r\n",
        "    elif prof == \"abi\":  lista = ['Analista de BI']\r\n",
        "\r\n",
        "    elif prof == \"eds\":  lista = ['Engenheiro de Dados']\r\n",
        "    \r\n",
        "    temp = dados[(dados[\"('P21', 'r')\"] == r) &\r\n",
        "               (dados[\"('P21', 'python')\"] == p) & \r\n",
        "               (dados[\"('P21', 'sql_')\"] == s) & \r\n",
        "               (dados['profissao'].isin(lista))].shape[0]\r\n",
        "\r\n",
        "    return temp\r\n"
      ],
      "execution_count": 76,
      "outputs": []
    },
    {
      "cell_type": "code",
      "metadata": {
        "id": "3NiZGjuVX69G"
      },
      "source": [
        ""
      ],
      "execution_count": 76,
      "outputs": []
    },
    {
      "cell_type": "markdown",
      "metadata": {
        "id": "8MqtUadRBgRr"
      },
      "source": [
        "###Todas as profissões"
      ]
    },
    {
      "cell_type": "code",
      "metadata": {
        "colab": {
          "base_uri": "https://localhost:8080/",
          "height": 272
        },
        "id": "79ZD-RK5nrI2",
        "outputId": "7baeb17a-544a-483f-d8fa-1c415b4501cb"
      },
      "source": [
        "#Uso das ferramentas por profissão \r\n",
        "#Python R e SQL\r\n",
        "#Em todas as profissões\r\n",
        "import matplotlib.pyplot\r\n",
        "\r\n",
        "lista = [n_inner(1,0,0,\"pds\"), n_inner(0,1,0,\"pds\"), n_inner(1,1,0,\"pds\"),\r\n",
        "         n_inner(0,0,1,\"pds\"), n_inner(1,0,1,\"pds\"), n_inner(0,1,1,\"pds\"),\r\n",
        "         n_inner(1,1,1,\"pds\")]\r\n",
        "\r\n",
        "s = sum(lista)\r\n",
        "\r\n",
        "lista = [x / s for x in lista]\r\n",
        "\r\n",
        "lista = np.around(lista,4)\r\n",
        "\r\n",
        "venn3(subsets = lista, set_labels = ('Python', 'R', 'SQL'), alpha = 0.6,\r\n",
        "      set_colors = cores3)\r\n",
        "\r\n"
      ],
      "execution_count": 77,
      "outputs": [
        {
          "output_type": "execute_result",
          "data": {
            "text/plain": [
              "<matplotlib_venn._common.VennDiagram at 0x7f3539dcca20>"
            ]
          },
          "metadata": {
            "tags": []
          },
          "execution_count": 77
        },
        {
          "output_type": "display_data",
          "data": {
            "image/png": "[encoded data removed]",
            "text/plain": [
              "<Figure size 432x288 with 1 Axes>"
            ]
          },
          "metadata": {
            "tags": []
          }
        }
      ]
    },
    {
      "cell_type": "markdown",
      "metadata": {
        "id": "MT5SAcnl6bpz"
      },
      "source": [
        "Através do diagrama de venn de todos as profissões, observa-se um perfil de uso dos 3 softwares Python, R e SQL, de uso predominante do Python com 85% das respostas. Python também é a maior linguagem de programação com uso exclusivo, com 11%, seguido por SQL com 10% e R com 1%. Os profissionais que usam apenas Python e SQL representam 48% das respostas. Já os que usam apenas Python e R somam 3%, apenas R e SQL 4% e os que usam R Python e SQL representam 23%. Nota-se que o perfil do profissional está fortemente ligado a Python e SQL, e o r como uma ferramenta complementar acessória, mas não essencial. "
      ]
    },
    {
      "cell_type": "markdown",
      "metadata": {
        "id": "oRyf7CMOBk_U"
      },
      "source": [
        "###Cientista de Dados"
      ]
    },
    {
      "cell_type": "code",
      "metadata": {
        "colab": {
          "base_uri": "https://localhost:8080/",
          "height": 271
        },
        "id": "4DkZc4JbzMNv",
        "outputId": "d70f5e9b-74f2-4b8c-9e1e-531a37c235e1"
      },
      "source": [
        "#Cientista de dados\r\n",
        "lista = [n_inner(1,0,0,\"cds\"), n_inner(0,1,0,\"cds\"), n_inner(1,1,0,\"cds\"),\r\n",
        "         n_inner(0,0,1,\"cds\"), n_inner(1,0,1,\"cds\"), n_inner(0,1,1,\"cds\"),\r\n",
        "         n_inner(1,1,1,\"cds\")]\r\n",
        "\r\n",
        "s = sum(lista)\r\n",
        "\r\n",
        "lista = [x / s for x in lista]\r\n",
        "\r\n",
        "lista = np.around(lista, 4)\r\n",
        "\r\n",
        "venn3(subsets = lista, set_labels = ('Python', 'R', 'SQL'), alpha = 0.6,\r\n",
        "      set_colors = cores3)\r\n",
        " "
      ],
      "execution_count": 78,
      "outputs": [
        {
          "output_type": "execute_result",
          "data": {
            "text/plain": [
              "<matplotlib_venn._common.VennDiagram at 0x7f3538d00b38>"
            ]
          },
          "metadata": {
            "tags": []
          },
          "execution_count": 78
        },
        {
          "output_type": "display_data",
          "data": {
            "image/png": "[encoded data removed]",
            "text/plain": [
              "<Figure size 432x288 with 1 Axes>"
            ]
          },
          "metadata": {
            "tags": []
          }
        }
      ]
    },
    {
      "cell_type": "markdown",
      "metadata": {
        "id": "-JgAns-76d-x"
      },
      "source": [
        "Através do diagrama de venn do Cientista de Dados, observa-se um perfil de uso dos 3 softwares Python, R e SQL, de uso predominante do Python com 93% das respostas. Python também é a maior linguagem de programação com uso exclusivo, com 18%, seguido por SQL com 2% e R com 2%. Os profissionais que usam apenas Python e SQL representam 40% das respostas. Já os que usam apenas Python e R somam 5%, apenas R e SQL 3% e os que usam R Python e SQL representam 30%. Nota-se que o perfil do profissional está fortemente ligado a Python e SQL, e o R como uma ferramenta complementar, para uso mais específico. "
      ]
    },
    {
      "cell_type": "markdown",
      "metadata": {
        "id": "x3WYxgy1BrAu"
      },
      "source": [
        "###Analista de Dados"
      ]
    },
    {
      "cell_type": "code",
      "metadata": {
        "colab": {
          "base_uri": "https://localhost:8080/",
          "height": 272
        },
        "id": "u8U6arRq32io",
        "outputId": "e081a434-a310-42f1-f4bb-d469d9433e2a"
      },
      "source": [
        "#Analista de Dados\r\n",
        "lista = [n_inner(1,0,0,\"ads\"), n_inner(0,1,0,\"ads\"), n_inner(1,1,0,\"ads\"),\r\n",
        "         n_inner(0,0,1,\"ads\"), n_inner(1,0,1,\"ads\"), n_inner(0,1,1,\"ads\"),\r\n",
        "         n_inner(1,1,1,\"ads\")]\r\n",
        "\r\n",
        "s = sum(lista)\r\n",
        "\r\n",
        "lista = [x / s for x in lista]\r\n",
        "\r\n",
        "lista = np.around(lista,2)\r\n",
        "\r\n",
        "venn3(subsets = lista, set_labels = ('Python', 'R', 'SQL'), alpha = 0.6,\r\n",
        "      set_colors = cores3)\r\n"
      ],
      "execution_count": 79,
      "outputs": [
        {
          "output_type": "execute_result",
          "data": {
            "text/plain": [
              "<matplotlib_venn._common.VennDiagram at 0x7f3538e16d30>"
            ]
          },
          "metadata": {
            "tags": []
          },
          "execution_count": 79
        },
        {
          "output_type": "display_data",
          "data": {
            "image/png": "[encoded data removed]",
            "text/plain": [
              "<Figure size 432x288 with 1 Axes>"
            ]
          },
          "metadata": {
            "tags": []
          }
        }
      ]
    },
    {
      "cell_type": "markdown",
      "metadata": {
        "id": "ya74U6HV6zSk"
      },
      "source": [
        "Através do diagrama de venn do Analista de Dados, observa-se um perfil de uso dos 3 softwares Python, R e SQL, de uso predominante do Python com 82% das respostas. SQL  é a maior linguagem de programação com uso exclusivo, com 11%, seguido por Python com 5% e R com 2%. Os profissionais que usam apenas Python e SQL representam 55% das respostas. Já os que usam apenas Python e R somam 3%, apenas R e SQL 5% e os que usam R Python e SQL representam 19%. Nota-se que o perfil do profissional está fortemente ligado SQL."
      ]
    },
    {
      "cell_type": "markdown",
      "metadata": {
        "id": "vcbykvcJBxji"
      },
      "source": [
        "###Analista de BI"
      ]
    },
    {
      "cell_type": "code",
      "metadata": {
        "colab": {
          "base_uri": "https://localhost:8080/",
          "height": 272
        },
        "id": "SRZeI0DmCTBq",
        "outputId": "a78d647b-5fec-496c-a4b4-f78ffdd88a30"
      },
      "source": [
        "#Analista de BI\r\n",
        "lista = [n_inner(1,0,0,\"abi\"), n_inner(0,1,0,\"abi\"), n_inner(1,1,0,\"abi\"),\r\n",
        "         n_inner(0,0,1,\"abi\"), n_inner(1,0,1,\"abi\"), n_inner(0,1,1,\"abi\"),\r\n",
        "         n_inner(1,1,1,\"abi\")]\r\n",
        "\r\n",
        "s = sum(lista)\r\n",
        "\r\n",
        "lista = [x / s for x in lista]\r\n",
        "\r\n",
        "lista = np.around(lista,2)\r\n",
        "\r\n",
        "venn3(subsets = lista, set_labels = ('Python', 'R', 'SQL'), alpha = 0.6,\r\n",
        "      set_colors = cores3)\r\n",
        "\r\n"
      ],
      "execution_count": 80,
      "outputs": [
        {
          "output_type": "execute_result",
          "data": {
            "text/plain": [
              "<matplotlib_venn._common.VennDiagram at 0x7f3538da0f28>"
            ]
          },
          "metadata": {
            "tags": []
          },
          "execution_count": 80
        },
        {
          "output_type": "display_data",
          "data": {
            "image/png": "[encoded data removed]",
            "text/plain": [
              "<Figure size 432x288 with 1 Axes>"
            ]
          },
          "metadata": {
            "tags": []
          }
        }
      ]
    },
    {
      "cell_type": "markdown",
      "metadata": {
        "id": "5fz1iasZ7oV8"
      },
      "source": [
        "Através do diagrama de venn do Analista de BI, observa-se um perfil de uso dos 3 softwares Python, R e SQL, de uso predominante do SQL com 87% das respostas. SQL  é a maior linguagem de programação com uso exclusivo, com 28%, seguido por Python com 8% e R com 1%. Os profissionais que usam apenas Python e SQL representam 34% das respostas. Já os que usam apenas Python e R somam 4%, apenas R e SQL 5% e os que usam R Python e SQL representam 20%. Nota-se que o perfil do profissional está fortemente ligado SQL."
      ]
    },
    {
      "cell_type": "markdown",
      "metadata": {
        "id": "IcUIKJJrB2qX"
      },
      "source": [
        "###Engenheiro de Dados"
      ]
    },
    {
      "cell_type": "code",
      "metadata": {
        "colab": {
          "base_uri": "https://localhost:8080/",
          "height": 272
        },
        "id": "hZ7WPNqnCtUs",
        "outputId": "63bdf85e-4c29-48dc-911d-218d576154de"
      },
      "source": [
        "#Engenheiro de Dados\r\n",
        "lista = [n_inner(1,0,0,\"eds\"), n_inner(0,1,0,\"eds\"), n_inner(1,1,0,\"eds\"),\r\n",
        "         n_inner(0,0,1,\"eds\"), n_inner(1,0,1,\"eds\"), n_inner(0,1,1,\"eds\"),\r\n",
        "         n_inner(1,1,1,\"eds\")]\r\n",
        "\r\n",
        "s = sum(lista)\r\n",
        "\r\n",
        "lista = [x / s for x in lista]\r\n",
        "\r\n",
        "lista = np.around(lista,2)\r\n",
        "\r\n",
        "venn3(subsets = lista, set_labels = ('Python', 'R', 'SQL'), alpha = 0.6,\r\n",
        "      set_colors = cores3)\r\n",
        "\r\n"
      ],
      "execution_count": 81,
      "outputs": [
        {
          "output_type": "execute_result",
          "data": {
            "text/plain": [
              "<matplotlib_venn._common.VennDiagram at 0x7f3538a3cd30>"
            ]
          },
          "metadata": {
            "tags": []
          },
          "execution_count": 81
        },
        {
          "output_type": "display_data",
          "data": {
            "image/png": "[encoded data removed]",
            "text/plain": [
              "<Figure size 432x288 with 1 Axes>"
            ]
          },
          "metadata": {
            "tags": []
          }
        }
      ]
    },
    {
      "cell_type": "markdown",
      "metadata": {
        "id": "Aa8wv3y48Ae-"
      },
      "source": [
        "Através do diagrama de venn do Engenheiro de Dados, observa-se um perfil de uso dos 3 softwares Python, R e SQL, de uso predominante do SQL e Python com 84% das respostas. O R nesse cenário é acessório, não existindo uso exclusivo."
      ]
    },
    {
      "cell_type": "markdown",
      "metadata": {
        "id": "vAECKfa4cf8A"
      },
      "source": [
        "##Métodos mais utilizados\r\n",
        "\r\n",
        "Nessa sessão queremos investigar quais os métodos mais utilizados de acordo com cada profissão de dados, bem como o salário médio de acordo com cada método empregado.\r\n"
      ]
    },
    {
      "cell_type": "markdown",
      "metadata": {
        "id": "sB1-ql2aEkGz"
      },
      "source": [
        "###Todas as profissões"
      ]
    },
    {
      "cell_type": "code",
      "metadata": {
        "colab": {
          "base_uri": "https://localhost:8080/",
          "height": 283
        },
        "id": "KHMuy3tnK1qc",
        "outputId": "f93c82ee-55c3-4ef6-d7dc-f8f4d18cf28e"
      },
      "source": [
        "#Ferramentas mais utilizadas em todas profissões\r\n",
        "data_temp = pds\r\n",
        "\r\n",
        "temp = data_temp.filter(regex = 'P20').sum().sort_values(\r\n",
        "    ascending = False)/data_temp.shape[0]\r\n",
        "\r\n",
        "index_antigo = list(temp.index)\r\n",
        "\r\n",
        "tira_caracteres = [\"P20\", \"'\",',','(',')',' ']\r\n",
        "\r\n",
        "for caract_temp in tira_caracteres:\r\n",
        "\r\n",
        "    index_antigo = [w.replace(caract_temp,'') for w in index_antigo]\r\n",
        "\r\n",
        "temp.index = index_antigo\r\n",
        "  \r\n",
        "temp[(temp >= 0.20) & (temp != \"no_listed_methods\")].plot(kind = \"barh\" \r\n",
        "                                                          , color = cores1)\r\n"
      ],
      "execution_count": 82,
      "outputs": [
        {
          "output_type": "execute_result",
          "data": {
            "text/plain": [
              "<matplotlib.axes._subplots.AxesSubplot at 0x7f35389ea898>"
            ]
          },
          "metadata": {
            "tags": []
          },
          "execution_count": 82
        },
        {
          "output_type": "display_data",
          "data": {
            "image/png": "[encoded data removed]",
            "text/plain": [
              "<Figure size 432x288 with 1 Axes>"
            ]
          },
          "metadata": {
            "tags": [],
            "needs_background": "light"
          }
        }
      ]
    },
    {
      "cell_type": "markdown",
      "metadata": {
        "id": "1rYGb6j4JUNJ"
      },
      "source": [
        "Os métodos mais utilizados estão os métodos clássicos como regressão linear e regressão logística, mas como também outros métodos supervisionados como árvores de decisão e floresta aleatória. "
      ]
    },
    {
      "cell_type": "markdown",
      "metadata": {
        "id": "fdf3OInYEpMw"
      },
      "source": [
        "###Cientista de Dados"
      ]
    },
    {
      "cell_type": "code",
      "metadata": {
        "colab": {
          "base_uri": "https://localhost:8080/",
          "height": 283
        },
        "id": "0nJYOSBRWgDU",
        "outputId": "71dc6bcd-2af9-4f24-de47-de8c6721627b"
      },
      "source": [
        "#Ferramentas mais utilizadas para Data Scinetist\r\n",
        "data_temp = cds\r\n",
        "\r\n",
        "temp = data_temp.filter(regex = 'P20').sum().sort_values(\r\n",
        "      ascending = False)/data_temp.shape[0]\r\n",
        "\r\n",
        "index_antigo = list(temp.index)\r\n",
        "\r\n",
        "tira_caracteres = [\"P20\", \"'\",',','(',')',' ']\r\n",
        "\r\n",
        "for caract_temp in tira_caracteres:\r\n",
        "    index_antigo = [w.replace(caract_temp,'') for w in index_antigo]\r\n",
        "\r\n",
        "temp.index=index_antigo\r\n",
        "\r\n",
        "temp[(temp>=0.20) & (temp != \"no_listed_methods\")].plot(kind = \"barh\",\r\n",
        "                                                        color = cores1)\r\n"
      ],
      "execution_count": 83,
      "outputs": [
        {
          "output_type": "execute_result",
          "data": {
            "text/plain": [
              "<matplotlib.axes._subplots.AxesSubplot at 0x7f3538a27c18>"
            ]
          },
          "metadata": {
            "tags": []
          },
          "execution_count": 83
        },
        {
          "output_type": "display_data",
          "data": {
            "image/png": "[encoded data removed]",
            "text/plain": [
              "<Figure size 432x288 with 1 Axes>"
            ]
          },
          "metadata": {
            "tags": [],
            "needs_background": "light"
          }
        }
      ]
    },
    {
      "cell_type": "markdown",
      "metadata": {
        "id": "fD6sWkjuJYms"
      },
      "source": [
        "Dentre os métodos utilizados por mais de 20% dos Cientistas de Dados, destacam-se também os métodos clássicos como regressão linear e regressão logística, mas também métodos modernos como redes neurais, processamento de linguagem natural e gradient boosting."
      ]
    },
    {
      "cell_type": "markdown",
      "metadata": {
        "id": "9QrEVDv0Etaf"
      },
      "source": [
        "###Analista de Dados"
      ]
    },
    {
      "cell_type": "code",
      "metadata": {
        "colab": {
          "base_uri": "https://localhost:8080/",
          "height": 283
        },
        "id": "CUQXzPHnW0jA",
        "outputId": "7f9a1feb-45d9-498a-82f6-344054b8ed5b"
      },
      "source": [
        "#Ferramentas mais utilizadas para Analista de Dados\r\n",
        "data_temp = ads\r\n",
        "\r\n",
        "temp = data_temp.filter(regex = 'P20').sum().sort_values(\r\n",
        "\r\n",
        "    ascending = False)/data_temp.shape[0]\r\n",
        "\r\n",
        "index_antigo = list(temp.index)\r\n",
        "\r\n",
        "tira_caracteres = [\"P20\", \"'\",',','(',')',' ']\r\n",
        "\r\n",
        "for caract_temp in tira_caracteres:\r\n",
        "\r\n",
        "  index_antigo = [w.replace(caract_temp,'') for w in index_antigo]\r\n",
        "\r\n",
        "temp.index=index_antigo\r\n",
        "\r\n",
        "temp\r\n",
        "\r\n",
        "temp[(temp >= 0.15) & (temp != \"no_listed_methods\")].plot(kind = \"barh\",\r\n",
        "                                                          color = cores1)\r\n"
      ],
      "execution_count": 84,
      "outputs": [
        {
          "output_type": "execute_result",
          "data": {
            "text/plain": [
              "<matplotlib.axes._subplots.AxesSubplot at 0x7f3538db16d8>"
            ]
          },
          "metadata": {
            "tags": []
          },
          "execution_count": 84
        },
        {
          "output_type": "display_data",
          "data": {
            "image/png": "[encoded data removed]",
            "text/plain": [
              "<Figure size 432x288 with 1 Axes>"
            ]
          },
          "metadata": {
            "tags": [],
            "needs_background": "light"
          }
        }
      ]
    },
    {
      "cell_type": "markdown",
      "metadata": {
        "id": "bVUu4g6oRfGC"
      },
      "source": [
        "\r\n",
        "Já o Analista de Dados apresenta uma frequência mais baixa dos métodos comuns ao Cientista de Dados. Filtrando os dados para usados por pelo menos 15% dos profissionais, restringem-se a apenas a 7 métodos. Talvez essa profissão utilize outros métodos não listados entre os métodos em comum com o Cientista de Dados.\r\n"
      ]
    },
    {
      "cell_type": "markdown",
      "metadata": {
        "id": "HKLyasDfExPv"
      },
      "source": [
        "###Analista de BI"
      ]
    },
    {
      "cell_type": "code",
      "metadata": {
        "colab": {
          "base_uri": "https://localhost:8080/",
          "height": 283
        },
        "id": "WPynqzV6aJEs",
        "outputId": "7a182f5e-f201-4d45-8677-2af10589285a"
      },
      "source": [
        "#Ferramentas mais utilizadas para analista de BI\r\n",
        "data_temp = abi\r\n",
        "\r\n",
        "temp = data_temp.filter(regex = 'P20').sum().sort_values(\r\n",
        "    \r\n",
        "    ascending = False)/data_temp.shape[0]\r\n",
        "\r\n",
        "index_antigo = list(temp.index)\r\n",
        "\r\n",
        "tira_caracteres = [\"P20\", \"'\",',','(',')',' ']\r\n",
        "\r\n",
        "for caract_temp in tira_caracteres:\r\n",
        "\r\n",
        "  index_antigo = [w.replace(caract_temp,'') for w in index_antigo]\r\n",
        "\r\n",
        "temp.index = index_antigo\r\n",
        "\r\n",
        "temp\r\n",
        "\r\n",
        "temp[(temp>=0.15) & (temp != \"no_listed_methods\")].plot(kind = \"barh\"\r\n",
        ", color = cores1)\r\n"
      ],
      "execution_count": 85,
      "outputs": [
        {
          "output_type": "execute_result",
          "data": {
            "text/plain": [
              "<matplotlib.axes._subplots.AxesSubplot at 0x7f3539adee80>"
            ]
          },
          "metadata": {
            "tags": []
          },
          "execution_count": 85
        },
        {
          "output_type": "display_data",
          "data": {
            "image/png": "[encoded data removed]",
            "text/plain": [
              "<Figure size 432x288 with 1 Axes>"
            ]
          },
          "metadata": {
            "tags": [],
            "needs_background": "light"
          }
        }
      ]
    },
    {
      "cell_type": "markdown",
      "metadata": {
        "id": "txyWFIaXR84W"
      },
      "source": [
        "O Analista de BI tem muito menos métodos em comum do que o Cientista de Dados, apresentando apenas dois métodos quando filtramos o conjunto de dados para métodos utilizado por mais de 15% dos profissionais. Essa profissão tende a usar outros tipos de ferramentas, por isso os únicos métodos aparentes são regressão linear e outros métodos não listados."
      ]
    },
    {
      "cell_type": "markdown",
      "metadata": {
        "id": "0s2Hgn__E0-x"
      },
      "source": [
        "###Engenheiro de Dados"
      ]
    },
    {
      "cell_type": "code",
      "metadata": {
        "colab": {
          "base_uri": "https://localhost:8080/",
          "height": 283
        },
        "id": "Fb-fgxEKaPxe",
        "outputId": "077ed076-fea1-49fb-8777-7c414b7ce42c"
      },
      "source": [
        "#Ferramentas mais utilizadas para Engenheiro de Dados\r\n",
        "data_temp = eds\r\n",
        "\r\n",
        "temp=data_temp.filter(regex = 'P20').sum().sort_values(\r\n",
        "    ascending = False)/data_temp.shape[0]\r\n",
        "\r\n",
        "index_antigo = list(temp.index)\r\n",
        "\r\n",
        "tira_caracteres = [\"P20\", \"'\",',','(',')',' ']\r\n",
        "\r\n",
        "for caract_temp in tira_caracteres:\r\n",
        "    index_antigo = [w.replace(caract_temp,'') for w in index_antigo]\r\n",
        "\r\n",
        "temp.index=index_antigo\r\n",
        " \r\n",
        "temp[(temp>=0.15) & (temp != \"no_listed_methods\")].plot(kind = \"barh\", \r\n",
        "                                                        color = cores1)\r\n"
      ],
      "execution_count": 86,
      "outputs": [
        {
          "output_type": "execute_result",
          "data": {
            "text/plain": [
              "<matplotlib.axes._subplots.AxesSubplot at 0x7f3539a00978>"
            ]
          },
          "metadata": {
            "tags": []
          },
          "execution_count": 86
        },
        {
          "output_type": "display_data",
          "data": {
            "image/png": "[encoded data removed]",
            "text/plain": [
              "<Figure size 432x288 with 1 Axes>"
            ]
          },
          "metadata": {
            "tags": [],
            "needs_background": "light"
          }
        }
      ]
    },
    {
      "cell_type": "markdown",
      "metadata": {
        "id": "5grQttTrSFfQ"
      },
      "source": [
        "O Engenheiro de Dados compartilha alguns métodos em comum com o Cientista de Dados. Filtramos o conjunto de dados para métodos utilizados por mais de 15% dos profissionais a profissão usa regressão linear, árvores de decisão, processamento de linguagem natural e floresta aleatória.  Essa profissão tende atuar de maneira distinta do Cientista de Dados e, por isso, apresenta com frequência maior do que outros métodos não listados. "
      ]
    },
    {
      "cell_type": "markdown",
      "metadata": {
        "id": "0w_DF-Xrcp1t"
      },
      "source": [
        "##Métodos utilizados por tamanho da empresa\r\n",
        "\r\n",
        "Os métodos utilizados pelos profissionais de acordo com os tamanhos das empresas não apresentam uma grande distinção. Nota-se em geral um uso expressivo dos métodos clássicos como regressão linear, logística e árvores de decisão. Entretanto as empresas grandes tendem a usar uma variedade maior de métodos do que as empresas pequenas e de tamanho médio, quando filtramos os dados para os métodos usados por pelo menos 30% das respostas.\r\n"
      ]
    },
    {
      "cell_type": "markdown",
      "metadata": {
        "id": "rMslqcg1FCdZ"
      },
      "source": [
        "###Empresa grande "
      ]
    },
    {
      "cell_type": "code",
      "metadata": {
        "colab": {
          "base_uri": "https://localhost:8080/",
          "height": 283
        },
        "id": "hWvSxN-UcvXA",
        "outputId": "424e6fd1-e5c8-4e96-d9ea-d96c8f38f2b0"
      },
      "source": [
        "#Empresa grande \r\n",
        "\r\n",
        "data_temp = cds[cds['tamanho_da_empresa'] == \"Grande\"]\r\n",
        "\r\n",
        "temp=data_temp.filter(regex = 'P20').sum().sort_values(\r\n",
        "    ascending = False)/data_temp.shape[0]\r\n",
        "\r\n",
        "index_antigo = list(temp.index)\r\n",
        "\r\n",
        "tira_caracteres = [\"P20\", \"'\",',','(',')',' ']\r\n",
        "\r\n",
        "for caract_temp in tira_caracteres:\r\n",
        "    index_antigo = [w.replace(caract_temp,'') for w in index_antigo]\r\n",
        "\r\n",
        "temp.index = index_antigo\r\n",
        "  \r\n",
        "temp[(temp>=0.30) & (temp!=\"no_listed_methods\")].plot(kind=\"barh\", \r\n",
        "                                                      color = cores1)"
      ],
      "execution_count": 87,
      "outputs": [
        {
          "output_type": "execute_result",
          "data": {
            "text/plain": [
              "<matplotlib.axes._subplots.AxesSubplot at 0x7f3538d461d0>"
            ]
          },
          "metadata": {
            "tags": []
          },
          "execution_count": 87
        },
        {
          "output_type": "display_data",
          "data": {
            "image/png": "[encoded data removed]",
            "text/plain": [
              "<Figure size 432x288 with 1 Axes>"
            ]
          },
          "metadata": {
            "tags": [],
            "needs_background": "light"
          }
        }
      ]
    },
    {
      "cell_type": "markdown",
      "metadata": {
        "id": "P8tfMygPFFow"
      },
      "source": [
        "###Empresa média"
      ]
    },
    {
      "cell_type": "code",
      "metadata": {
        "colab": {
          "base_uri": "https://localhost:8080/",
          "height": 283
        },
        "id": "vUog5q1VdVTK",
        "outputId": "bf8ad8ac-da55-4c29-96e3-45f5a68e3745"
      },
      "source": [
        "#Empresa média\r\n",
        "\r\n",
        "data_temp = cds[cds['tamanho_da_empresa']==\"Média\"]\r\n",
        "\r\n",
        "temp=data_temp.filter(regex = 'P20').sum().sort_values(\r\n",
        "    ascending = False)/data_temp.shape[0]\r\n",
        "\r\n",
        "index_antigo = list(temp.index)\r\n",
        "\r\n",
        "tira_caracteres = [\"P20\", \"'\",',','(',')',' ']\r\n",
        "\r\n",
        "for caract_temp in tira_caracteres:\r\n",
        "    index_antigo = [w.replace(caract_temp,'') for w in index_antigo]\r\n",
        "\r\n",
        "temp.index = index_antigo\r\n",
        " \r\n",
        "temp[(temp >= 0.30) & (temp != \"no_listed_methods\")].plot(kind = \"barh\",\r\n",
        "                                                          color = cores1)"
      ],
      "execution_count": 88,
      "outputs": [
        {
          "output_type": "execute_result",
          "data": {
            "text/plain": [
              "<matplotlib.axes._subplots.AxesSubplot at 0x7f3538ab5550>"
            ]
          },
          "metadata": {
            "tags": []
          },
          "execution_count": 88
        },
        {
          "output_type": "display_data",
          "data": {
            "image/png": "[encoded data removed]",
            "text/plain": [
              "<Figure size 432x288 with 1 Axes>"
            ]
          },
          "metadata": {
            "tags": [],
            "needs_background": "light"
          }
        }
      ]
    },
    {
      "cell_type": "markdown",
      "metadata": {
        "id": "0RNO7aXoFKQp"
      },
      "source": [
        "###Empresa pequena"
      ]
    },
    {
      "cell_type": "code",
      "metadata": {
        "colab": {
          "base_uri": "https://localhost:8080/",
          "height": 283
        },
        "id": "IQMI_qhFdfhG",
        "outputId": "2ea7b371-8ee1-431b-e77e-0925eb0c68bd"
      },
      "source": [
        "#empresa pequena\r\n",
        "\r\n",
        "data_temp = cds[cds['tamanho_da_empresa'] == \"Pequena\"]\r\n",
        "\r\n",
        "temp=data_temp.filter(regex = 'P20').sum().sort_values(\r\n",
        "    ascending = False)/data_temp.shape[0]\r\n",
        "\r\n",
        "index_antigo = list(temp.index)\r\n",
        "\r\n",
        "tira_caracteres = [\"P20\", \"'\",',','(',')',' ']\r\n",
        "\r\n",
        "for caract_temp in tira_caracteres:\r\n",
        "\r\n",
        "  index_antigo = [w.replace(caract_temp,'') for w in index_antigo]\r\n",
        "\r\n",
        "temp.index = index_antigo\r\n",
        " \r\n",
        "temp[(temp >= 0.30) & (temp != \"no_listed_methods\")].plot(kind = \"barh\",\r\n",
        "                                                          color = cores1)"
      ],
      "execution_count": 89,
      "outputs": [
        {
          "output_type": "execute_result",
          "data": {
            "text/plain": [
              "<matplotlib.axes._subplots.AxesSubplot at 0x7f3539a080f0>"
            ]
          },
          "metadata": {
            "tags": []
          },
          "execution_count": 89
        },
        {
          "output_type": "display_data",
          "data": {
            "image/png": "[encoded data removed]",
            "text/plain": [
              "<Figure size 432x288 with 1 Axes>"
            ]
          },
          "metadata": {
            "tags": [],
            "needs_background": "light"
          }
        }
      ]
    },
    {
      "cell_type": "markdown",
      "metadata": {
        "id": "0RiqfPdvq_v5"
      },
      "source": [
        "##Salário médio por método utilizado\r\n",
        "\r\n",
        "Através das tabelas abaixo, é possível observar o salário médio de acordo com o uso de cada método, bem como o número de informações utilizadas para compor cada métrica. "
      ]
    },
    {
      "cell_type": "markdown",
      "metadata": {
        "id": "orDfYLa8m9Jk"
      },
      "source": [
        "##Todas as profissões"
      ]
    },
    {
      "cell_type": "code",
      "metadata": {
        "colab": {
          "base_uri": "https://localhost:8080/",
          "height": 708
        },
        "id": "QQ6inPCdnBYV",
        "outputId": "ffeda0f1-939d-4e9c-8ee5-c0ba2a85ceb2"
      },
      "source": [
        "#Todas as profissões\r\n",
        "\r\n",
        "col_temp = pds.filter(regex = 'P20').columns\r\n",
        "\r\n",
        "banco_tmep = {}\r\n",
        "\r\n",
        "for var_tmp in col_temp:\r\n",
        "    banco_tmep[var_tmp] = [pds['salario'][pds[var_tmp] == 1].mean()]\r\n",
        "\r\n",
        "temp = pd.DataFrame(banco_tmep).T\r\n",
        "\r\n",
        "index_antigo = list(temp.index)\r\n",
        "\r\n",
        "tira_caracteres = [\"P20\", \"'\",',','(',')',' ']\r\n",
        "\r\n",
        "for caract_temp in tira_caracteres:\r\n",
        "    index_antigo = [w.replace(caract_temp,'') for w in index_antigo]\r\n",
        "\r\n",
        "temp.index = index_antigo\r\n",
        "\r\n",
        "temp[0] = temp[0].round(2)\r\n",
        "\r\n",
        "temp[1] = list(pds.filter(regex = 'P20').sum())\r\n",
        "\r\n",
        "temp.columns = [\"Salário\",\"N\"]\r\n",
        "\r\n",
        "temp.sort_values(\"Salário\",ascending = False,)"
      ],
      "execution_count": 90,
      "outputs": [
        {
          "output_type": "execute_result",
          "data": {
            "text/html": [
              "<div>\n",
              "<style scoped>\n",
              "    .dataframe tbody tr th:only-of-type {\n",
              "        vertical-align: middle;\n",
              "    }\n",
              "\n",
              "    .dataframe tbody tr th {\n",
              "        vertical-align: top;\n",
              "    }\n",
              "\n",
              "    .dataframe thead th {\n",
              "        text-align: right;\n",
              "    }\n",
              "</style>\n",
              "<table border=\"1\" class=\"dataframe\">\n",
              "  <thead>\n",
              "    <tr style=\"text-align: right;\">\n",
              "      <th></th>\n",
              "      <th>Salário</th>\n",
              "      <th>N</th>\n",
              "    </tr>\n",
              "  </thead>\n",
              "  <tbody>\n",
              "    <tr>\n",
              "      <th>gans</th>\n",
              "      <td>10111.11</td>\n",
              "      <td>9</td>\n",
              "    </tr>\n",
              "    <tr>\n",
              "      <th>hmms</th>\n",
              "      <td>8250.00</td>\n",
              "      <td>10</td>\n",
              "    </tr>\n",
              "    <tr>\n",
              "      <th>ensemble</th>\n",
              "      <td>8102.15</td>\n",
              "      <td>93</td>\n",
              "    </tr>\n",
              "    <tr>\n",
              "      <th>rnns</th>\n",
              "      <td>8077.78</td>\n",
              "      <td>45</td>\n",
              "    </tr>\n",
              "    <tr>\n",
              "      <th>gradient_boosted_machines</th>\n",
              "      <td>7726.85</td>\n",
              "      <td>108</td>\n",
              "    </tr>\n",
              "    <tr>\n",
              "      <th>longitudinal_data_analysis</th>\n",
              "      <td>7691.49</td>\n",
              "      <td>47</td>\n",
              "    </tr>\n",
              "    <tr>\n",
              "      <th>glms</th>\n",
              "      <td>7397.26</td>\n",
              "      <td>73</td>\n",
              "    </tr>\n",
              "    <tr>\n",
              "      <th>svms</th>\n",
              "      <td>7250.00</td>\n",
              "      <td>84</td>\n",
              "    </tr>\n",
              "    <tr>\n",
              "      <th>decision_tree</th>\n",
              "      <td>7030.43</td>\n",
              "      <td>230</td>\n",
              "    </tr>\n",
              "    <tr>\n",
              "      <th>bayesian_inference</th>\n",
              "      <td>7008.40</td>\n",
              "      <td>119</td>\n",
              "    </tr>\n",
              "    <tr>\n",
              "      <th>cluster_analysis</th>\n",
              "      <td>6956.31</td>\n",
              "      <td>206</td>\n",
              "    </tr>\n",
              "    <tr>\n",
              "      <th>logistic_regression</th>\n",
              "      <td>6946.90</td>\n",
              "      <td>226</td>\n",
              "    </tr>\n",
              "    <tr>\n",
              "      <th>cnns</th>\n",
              "      <td>6937.50</td>\n",
              "      <td>48</td>\n",
              "    </tr>\n",
              "    <tr>\n",
              "      <th>random_forest</th>\n",
              "      <td>6931.47</td>\n",
              "      <td>197</td>\n",
              "    </tr>\n",
              "    <tr>\n",
              "      <th>linear_regression</th>\n",
              "      <td>6803.82</td>\n",
              "      <td>288</td>\n",
              "    </tr>\n",
              "    <tr>\n",
              "      <th>neural_networks</th>\n",
              "      <td>6574.63</td>\n",
              "      <td>134</td>\n",
              "    </tr>\n",
              "    <tr>\n",
              "      <th>nlp</th>\n",
              "      <td>6233.08</td>\n",
              "      <td>133</td>\n",
              "    </tr>\n",
              "    <tr>\n",
              "      <th>markov_chains</th>\n",
              "      <td>6230.77</td>\n",
              "      <td>39</td>\n",
              "    </tr>\n",
              "    <tr>\n",
              "      <th>no_listed_methods</th>\n",
              "      <td>5875.00</td>\n",
              "      <td>140</td>\n",
              "    </tr>\n",
              "    <tr>\n",
              "      <th>survival_analysis</th>\n",
              "      <td>5447.37</td>\n",
              "      <td>38</td>\n",
              "    </tr>\n",
              "    <tr>\n",
              "      <th>jointanalysis</th>\n",
              "      <td>5333.33</td>\n",
              "      <td>36</td>\n",
              "    </tr>\n",
              "  </tbody>\n",
              "</table>\n",
              "</div>"
            ],
            "text/plain": [
              "                             Salário    N\n",
              "gans                        10111.11    9\n",
              "hmms                         8250.00   10\n",
              "ensemble                     8102.15   93\n",
              "rnns                         8077.78   45\n",
              "gradient_boosted_machines    7726.85  108\n",
              "longitudinal_data_analysis   7691.49   47\n",
              "glms                         7397.26   73\n",
              "svms                         7250.00   84\n",
              "decision_tree                7030.43  230\n",
              "bayesian_inference           7008.40  119\n",
              "cluster_analysis             6956.31  206\n",
              "logistic_regression          6946.90  226\n",
              "cnns                         6937.50   48\n",
              "random_forest                6931.47  197\n",
              "linear_regression            6803.82  288\n",
              "neural_networks              6574.63  134\n",
              "nlp                          6233.08  133\n",
              "markov_chains                6230.77   39\n",
              "no_listed_methods            5875.00  140\n",
              "survival_analysis            5447.37   38\n",
              "jointanalysis                5333.33   36"
            ]
          },
          "metadata": {
            "tags": []
          },
          "execution_count": 90
        }
      ]
    },
    {
      "cell_type": "markdown",
      "metadata": {
        "id": "tpnmVdgjrNtU"
      },
      "source": [
        "Nota-se, como já observado anteriormente, que o método mais utilizado entre os profissionais da área de dados é a regressão linear. Entretanto, a média de salário dos profissionais que utilizam esse método não está entre os salários mais altos. O método com maior salário médio, foi o GANS (redes adversárias generativas), porém, esse salário é declarado por poucos profissionais, o que pode carecer de significância estatística. Um destaque especial para Gradient Boosted Machines, que apresenta um salário acima da mediana e tem uma grande quantidade de pessoas utilizando.  "
      ]
    },
    {
      "cell_type": "markdown",
      "metadata": {
        "id": "ZgiMXXWZFczd"
      },
      "source": [
        "###Cientista de Dados"
      ]
    },
    {
      "cell_type": "code",
      "metadata": {
        "colab": {
          "base_uri": "https://localhost:8080/",
          "height": 708
        },
        "id": "79hJkSwy0XvT",
        "outputId": "66718643-fa6b-446e-a75b-a66ca2de7dce"
      },
      "source": [
        "#Cientista de Dados\r\n",
        "col_temp = cds.filter(regex = 'P20').columns\r\n",
        "\r\n",
        "banco_tmep = {}\r\n",
        "\r\n",
        "for var_tmp in col_temp:\r\n",
        "    banco_tmep[var_tmp] = [cds['salario'][cds[var_tmp] == 1].mean()]\r\n",
        "\r\n",
        "temp = pd.DataFrame(banco_tmep).T\r\n",
        "\r\n",
        "index_antigo = list(temp.index)\r\n",
        "\r\n",
        "tira_caracteres = [\"P20\", \"'\",',','(',')',' ']\r\n",
        "\r\n",
        "for caract_temp in tira_caracteres:\r\n",
        "    index_antigo = [w.replace(caract_temp,'') for w in index_antigo]\r\n",
        "\r\n",
        "temp.index = index_antigo\r\n",
        "\r\n",
        "temp[0] = temp[0].round(2)\r\n",
        "\r\n",
        "temp[1] = list(cds.filter(regex = 'P20').sum())\r\n",
        "\r\n",
        "temp.columns = [\"Salário\",\"N\"]\r\n",
        "\r\n",
        "temp.sort_values(\"Salário\",ascending = False,)"
      ],
      "execution_count": 91,
      "outputs": [
        {
          "output_type": "execute_result",
          "data": {
            "text/html": [
              "<div>\n",
              "<style scoped>\n",
              "    .dataframe tbody tr th:only-of-type {\n",
              "        vertical-align: middle;\n",
              "    }\n",
              "\n",
              "    .dataframe tbody tr th {\n",
              "        vertical-align: top;\n",
              "    }\n",
              "\n",
              "    .dataframe thead th {\n",
              "        text-align: right;\n",
              "    }\n",
              "</style>\n",
              "<table border=\"1\" class=\"dataframe\">\n",
              "  <thead>\n",
              "    <tr style=\"text-align: right;\">\n",
              "      <th></th>\n",
              "      <th>Salário</th>\n",
              "      <th>N</th>\n",
              "    </tr>\n",
              "  </thead>\n",
              "  <tbody>\n",
              "    <tr>\n",
              "      <th>gans</th>\n",
              "      <td>10111.11</td>\n",
              "      <td>9</td>\n",
              "    </tr>\n",
              "    <tr>\n",
              "      <th>hmms</th>\n",
              "      <td>8625.00</td>\n",
              "      <td>8</td>\n",
              "    </tr>\n",
              "    <tr>\n",
              "      <th>rnns</th>\n",
              "      <td>8585.71</td>\n",
              "      <td>35</td>\n",
              "    </tr>\n",
              "    <tr>\n",
              "      <th>ensemble</th>\n",
              "      <td>8344.16</td>\n",
              "      <td>77</td>\n",
              "    </tr>\n",
              "    <tr>\n",
              "      <th>longitudinal_data_analysis</th>\n",
              "      <td>7852.94</td>\n",
              "      <td>34</td>\n",
              "    </tr>\n",
              "    <tr>\n",
              "      <th>svms</th>\n",
              "      <td>7847.46</td>\n",
              "      <td>59</td>\n",
              "    </tr>\n",
              "    <tr>\n",
              "      <th>cluster_analysis</th>\n",
              "      <td>7806.03</td>\n",
              "      <td>116</td>\n",
              "    </tr>\n",
              "    <tr>\n",
              "      <th>gradient_boosted_machines</th>\n",
              "      <td>7738.37</td>\n",
              "      <td>86</td>\n",
              "    </tr>\n",
              "    <tr>\n",
              "      <th>cnns</th>\n",
              "      <td>7718.75</td>\n",
              "      <td>32</td>\n",
              "    </tr>\n",
              "    <tr>\n",
              "      <th>decision_tree</th>\n",
              "      <td>7571.43</td>\n",
              "      <td>126</td>\n",
              "    </tr>\n",
              "    <tr>\n",
              "      <th>logistic_regression</th>\n",
              "      <td>7530.77</td>\n",
              "      <td>130</td>\n",
              "    </tr>\n",
              "    <tr>\n",
              "      <th>glms</th>\n",
              "      <td>7428.57</td>\n",
              "      <td>56</td>\n",
              "    </tr>\n",
              "    <tr>\n",
              "      <th>linear_regression</th>\n",
              "      <td>7346.15</td>\n",
              "      <td>143</td>\n",
              "    </tr>\n",
              "    <tr>\n",
              "      <th>random_forest</th>\n",
              "      <td>7316.00</td>\n",
              "      <td>125</td>\n",
              "    </tr>\n",
              "    <tr>\n",
              "      <th>bayesian_inference</th>\n",
              "      <td>7072.58</td>\n",
              "      <td>62</td>\n",
              "    </tr>\n",
              "    <tr>\n",
              "      <th>neural_networks</th>\n",
              "      <td>6960.67</td>\n",
              "      <td>89</td>\n",
              "    </tr>\n",
              "    <tr>\n",
              "      <th>nlp</th>\n",
              "      <td>6919.12</td>\n",
              "      <td>68</td>\n",
              "    </tr>\n",
              "    <tr>\n",
              "      <th>markov_chains</th>\n",
              "      <td>6557.69</td>\n",
              "      <td>26</td>\n",
              "    </tr>\n",
              "    <tr>\n",
              "      <th>survival_analysis</th>\n",
              "      <td>5134.62</td>\n",
              "      <td>26</td>\n",
              "    </tr>\n",
              "    <tr>\n",
              "      <th>jointanalysis</th>\n",
              "      <td>4846.15</td>\n",
              "      <td>13</td>\n",
              "    </tr>\n",
              "    <tr>\n",
              "      <th>no_listed_methods</th>\n",
              "      <td>4428.57</td>\n",
              "      <td>7</td>\n",
              "    </tr>\n",
              "  </tbody>\n",
              "</table>\n",
              "</div>"
            ],
            "text/plain": [
              "                             Salário    N\n",
              "gans                        10111.11    9\n",
              "hmms                         8625.00    8\n",
              "rnns                         8585.71   35\n",
              "ensemble                     8344.16   77\n",
              "longitudinal_data_analysis   7852.94   34\n",
              "svms                         7847.46   59\n",
              "cluster_analysis             7806.03  116\n",
              "gradient_boosted_machines    7738.37   86\n",
              "cnns                         7718.75   32\n",
              "decision_tree                7571.43  126\n",
              "logistic_regression          7530.77  130\n",
              "glms                         7428.57   56\n",
              "linear_regression            7346.15  143\n",
              "random_forest                7316.00  125\n",
              "bayesian_inference           7072.58   62\n",
              "neural_networks              6960.67   89\n",
              "nlp                          6919.12   68\n",
              "markov_chains                6557.69   26\n",
              "survival_analysis            5134.62   26\n",
              "jointanalysis                4846.15   13\n",
              "no_listed_methods            4428.57    7"
            ]
          },
          "metadata": {
            "tags": []
          },
          "execution_count": 91
        }
      ]
    },
    {
      "cell_type": "markdown",
      "metadata": {
        "id": "sOHlXj_AtJ46"
      },
      "source": [
        "Assim com nos resultados anteriores, os métodos utilizados pelo Cientista de Dados são regressão linear e logística. Mas para esse profissional, os salários médios de quem utiliza esses métodos estão próximos da média salarial. Alguns métodos se destacam por apresentarem um salário acima da média e terem bastantes informações para compor essa métrica. Esses métodos são métodos de ensemble e análise de cluster. "
      ]
    },
    {
      "cell_type": "markdown",
      "metadata": {
        "id": "Gy49YW-WHT_5"
      },
      "source": [
        "##Comentários\r\n",
        "\r\n",
        "Algumas variáveis não foram analisadas por acreditarmos que suas informações não representam a realidade da população referenciada. Um exemplo é a variável de localização. As regiões como norte e nordeste tiveram informações removidas, a fim de preservar a identidade dos participantes da pesquisa. Como essa remoção pode ter sido realizada de maneira não aleatória, preferimos não utilizar essa variável nas análises. \r\n",
        "\r\n",
        "Vejam quantas informações foram extraídas desse conjunto de dados. Por incrível que pareça, mesmo após mais de 1 ano da disponibilização dos dados, não vimos uma análise tão completa e profunda como essa. E há muito mais que ainda pode ser feito. Daqui em diante, seria interessante aprofundar o estudo em relação a testes estatísticos e verificar quais diferenças, de fato, existem nesse gigante e complexo mercado. "
      ]
    }
  ]
}